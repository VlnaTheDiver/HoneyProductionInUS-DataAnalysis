{
 "cells": [
  {
   "cell_type": "code",
   "execution_count": 90,
   "id": "334ea254",
   "metadata": {},
   "outputs": [],
   "source": [
    "import pandas as pd\n",
    "import plotly.express as px\n",
    "import numpy as np\n",
    "from sklearn import metrics\n",
    "from sklearn.linear_model import LogisticRegression\n",
    "from sklearn.tree import DecisionTreeClassifier"
   ]
  },
  {
   "cell_type": "code",
   "execution_count": 91,
   "id": "4e85b2d1",
   "metadata": {},
   "outputs": [],
   "source": [
    "#Dataset taken from https://www.kaggle.com/datasets/mohitpoudel/honey-production-in-us-20102021\n",
    "honeyDF = pd.read_csv(\"US_honey_production_dataset.csv\",\n",
    "                 sep=\",\",  # delimiter\n",
    "                 header=0, # header in first row\n",
    "                 index_col=0 # ids in first column\n",
    "                )"
   ]
  },
  {
   "cell_type": "code",
   "execution_count": 92,
   "id": "f2a57103",
   "metadata": {},
   "outputs": [
    {
     "data": {
      "text/html": [
       "<div>\n",
       "<style scoped>\n",
       "    .dataframe tbody tr th:only-of-type {\n",
       "        vertical-align: middle;\n",
       "    }\n",
       "\n",
       "    .dataframe tbody tr th {\n",
       "        vertical-align: top;\n",
       "    }\n",
       "\n",
       "    .dataframe thead th {\n",
       "        text-align: right;\n",
       "    }\n",
       "</style>\n",
       "<table border=\"1\" class=\"dataframe\">\n",
       "  <thead>\n",
       "    <tr style=\"text-align: right;\">\n",
       "      <th></th>\n",
       "      <th>state</th>\n",
       "      <th>colony_number</th>\n",
       "      <th>yield_per_colony</th>\n",
       "      <th>productions</th>\n",
       "      <th>stocks</th>\n",
       "      <th>average_price</th>\n",
       "      <th>value_of_prod</th>\n",
       "      <th>year</th>\n",
       "    </tr>\n",
       "  </thead>\n",
       "  <tbody>\n",
       "    <tr>\n",
       "      <th>0</th>\n",
       "      <td>Alabama</td>\n",
       "      <td>9000</td>\n",
       "      <td>54</td>\n",
       "      <td>73000</td>\n",
       "      <td>73000</td>\n",
       "      <td>240.0</td>\n",
       "      <td>1166000</td>\n",
       "      <td>2010</td>\n",
       "    </tr>\n",
       "    <tr>\n",
       "      <th>1</th>\n",
       "      <td>Arizona</td>\n",
       "      <td>24000</td>\n",
       "      <td>77</td>\n",
       "      <td>665000</td>\n",
       "      <td>665000</td>\n",
       "      <td>152.0</td>\n",
       "      <td>2809000</td>\n",
       "      <td>2010</td>\n",
       "    </tr>\n",
       "    <tr>\n",
       "      <th>2</th>\n",
       "      <td>Arkansas</td>\n",
       "      <td>25000</td>\n",
       "      <td>60</td>\n",
       "      <td>360000</td>\n",
       "      <td>360000</td>\n",
       "      <td>147.0</td>\n",
       "      <td>2205000</td>\n",
       "      <td>2010</td>\n",
       "    </tr>\n",
       "    <tr>\n",
       "      <th>3</th>\n",
       "      <td>California</td>\n",
       "      <td>410000</td>\n",
       "      <td>67</td>\n",
       "      <td>6318000</td>\n",
       "      <td>6318000</td>\n",
       "      <td>155.0</td>\n",
       "      <td>42579000</td>\n",
       "      <td>2010</td>\n",
       "    </tr>\n",
       "    <tr>\n",
       "      <th>4</th>\n",
       "      <td>Colorado</td>\n",
       "      <td>34000</td>\n",
       "      <td>56</td>\n",
       "      <td>533000</td>\n",
       "      <td>533000</td>\n",
       "      <td>152.0</td>\n",
       "      <td>2894000</td>\n",
       "      <td>2010</td>\n",
       "    </tr>\n",
       "    <tr>\n",
       "      <th>5</th>\n",
       "      <td>Florida</td>\n",
       "      <td>200000</td>\n",
       "      <td>69</td>\n",
       "      <td>1794000</td>\n",
       "      <td>1794000</td>\n",
       "      <td>156.0</td>\n",
       "      <td>21528000</td>\n",
       "      <td>2010</td>\n",
       "    </tr>\n",
       "    <tr>\n",
       "      <th>6</th>\n",
       "      <td>Georgia</td>\n",
       "      <td>55000</td>\n",
       "      <td>46</td>\n",
       "      <td>152000</td>\n",
       "      <td>152000</td>\n",
       "      <td>167.0</td>\n",
       "      <td>4225000</td>\n",
       "      <td>2010</td>\n",
       "    </tr>\n",
       "    <tr>\n",
       "      <th>7</th>\n",
       "      <td>Hawaii</td>\n",
       "      <td>10000</td>\n",
       "      <td>77</td>\n",
       "      <td>239000</td>\n",
       "      <td>239000</td>\n",
       "      <td>275.0</td>\n",
       "      <td>2118000</td>\n",
       "      <td>2010</td>\n",
       "    </tr>\n",
       "    <tr>\n",
       "      <th>8</th>\n",
       "      <td>Idaho</td>\n",
       "      <td>97000</td>\n",
       "      <td>27</td>\n",
       "      <td>1179000</td>\n",
       "      <td>1179000</td>\n",
       "      <td>161.0</td>\n",
       "      <td>4217000</td>\n",
       "      <td>2010</td>\n",
       "    </tr>\n",
       "    <tr>\n",
       "      <th>9</th>\n",
       "      <td>Illinois</td>\n",
       "      <td>9000</td>\n",
       "      <td>41</td>\n",
       "      <td>92000</td>\n",
       "      <td>92000</td>\n",
       "      <td>278.0</td>\n",
       "      <td>1026000</td>\n",
       "      <td>2010</td>\n",
       "    </tr>\n",
       "  </tbody>\n",
       "</table>\n",
       "</div>"
      ],
      "text/plain": [
       "        state  colony_number  yield_per_colony  productions   stocks  \\\n",
       "0     Alabama           9000                54        73000    73000   \n",
       "1     Arizona          24000                77       665000   665000   \n",
       "2    Arkansas          25000                60       360000   360000   \n",
       "3  California         410000                67      6318000  6318000   \n",
       "4    Colorado          34000                56       533000   533000   \n",
       "5     Florida         200000                69      1794000  1794000   \n",
       "6     Georgia          55000                46       152000   152000   \n",
       "7      Hawaii          10000                77       239000   239000   \n",
       "8       Idaho          97000                27      1179000  1179000   \n",
       "9    Illinois           9000                41        92000    92000   \n",
       "\n",
       "   average_price  value_of_prod  year  \n",
       "0          240.0        1166000  2010  \n",
       "1          152.0        2809000  2010  \n",
       "2          147.0        2205000  2010  \n",
       "3          155.0       42579000  2010  \n",
       "4          152.0        2894000  2010  \n",
       "5          156.0       21528000  2010  \n",
       "6          167.0        4225000  2010  \n",
       "7          275.0        2118000  2010  \n",
       "8          161.0        4217000  2010  \n",
       "9          278.0        1026000  2010  "
      ]
     },
     "execution_count": 92,
     "metadata": {},
     "output_type": "execute_result"
    }
   ],
   "source": [
    "honeyDF.head(10)"
   ]
  },
  {
   "cell_type": "code",
   "execution_count": 93,
   "id": "c2255b4f",
   "metadata": {},
   "outputs": [
    {
     "data": {
      "text/html": [
       "<div>\n",
       "<style scoped>\n",
       "    .dataframe tbody tr th:only-of-type {\n",
       "        vertical-align: middle;\n",
       "    }\n",
       "\n",
       "    .dataframe tbody tr th {\n",
       "        vertical-align: top;\n",
       "    }\n",
       "\n",
       "    .dataframe thead th {\n",
       "        text-align: right;\n",
       "    }\n",
       "</style>\n",
       "<table border=\"1\" class=\"dataframe\">\n",
       "  <thead>\n",
       "    <tr style=\"text-align: right;\">\n",
       "      <th></th>\n",
       "      <th>state</th>\n",
       "      <th>colony_number</th>\n",
       "      <th>yield_per_colony</th>\n",
       "      <th>productions</th>\n",
       "      <th>stocks</th>\n",
       "      <th>average_price</th>\n",
       "      <th>value_of_prod</th>\n",
       "      <th>year</th>\n",
       "    </tr>\n",
       "  </thead>\n",
       "  <tbody>\n",
       "    <tr>\n",
       "      <th>469</th>\n",
       "      <td>SouthDakota</td>\n",
       "      <td>250000</td>\n",
       "      <td>49</td>\n",
       "      <td>5268000</td>\n",
       "      <td>5268000</td>\n",
       "      <td>2.27</td>\n",
       "      <td>27808000</td>\n",
       "      <td>2021</td>\n",
       "    </tr>\n",
       "    <tr>\n",
       "      <th>470</th>\n",
       "      <td>Tennessee</td>\n",
       "      <td>8000</td>\n",
       "      <td>56</td>\n",
       "      <td>81000</td>\n",
       "      <td>81000</td>\n",
       "      <td>5.00</td>\n",
       "      <td>2240000</td>\n",
       "      <td>2021</td>\n",
       "    </tr>\n",
       "    <tr>\n",
       "      <th>471</th>\n",
       "      <td>Texas</td>\n",
       "      <td>137000</td>\n",
       "      <td>56</td>\n",
       "      <td>384000</td>\n",
       "      <td>384000</td>\n",
       "      <td>2.30</td>\n",
       "      <td>17646000</td>\n",
       "      <td>2021</td>\n",
       "    </tr>\n",
       "    <tr>\n",
       "      <th>472</th>\n",
       "      <td>Utah</td>\n",
       "      <td>31000</td>\n",
       "      <td>33</td>\n",
       "      <td>92000</td>\n",
       "      <td>92000</td>\n",
       "      <td>2.18</td>\n",
       "      <td>2230000</td>\n",
       "      <td>2021</td>\n",
       "    </tr>\n",
       "    <tr>\n",
       "      <th>473</th>\n",
       "      <td>Vermont</td>\n",
       "      <td>7000</td>\n",
       "      <td>47</td>\n",
       "      <td>76000</td>\n",
       "      <td>76000</td>\n",
       "      <td>3.28</td>\n",
       "      <td>1079000</td>\n",
       "      <td>2021</td>\n",
       "    </tr>\n",
       "    <tr>\n",
       "      <th>474</th>\n",
       "      <td>Virginia</td>\n",
       "      <td>6000</td>\n",
       "      <td>40</td>\n",
       "      <td>79000</td>\n",
       "      <td>79000</td>\n",
       "      <td>8.23</td>\n",
       "      <td>1975000</td>\n",
       "      <td>2021</td>\n",
       "    </tr>\n",
       "    <tr>\n",
       "      <th>475</th>\n",
       "      <td>Washington</td>\n",
       "      <td>96000</td>\n",
       "      <td>32</td>\n",
       "      <td>1206000</td>\n",
       "      <td>1206000</td>\n",
       "      <td>2.52</td>\n",
       "      <td>7741000</td>\n",
       "      <td>2021</td>\n",
       "    </tr>\n",
       "    <tr>\n",
       "      <th>476</th>\n",
       "      <td>WestVirginia</td>\n",
       "      <td>6000</td>\n",
       "      <td>43</td>\n",
       "      <td>136000</td>\n",
       "      <td>136000</td>\n",
       "      <td>4.80</td>\n",
       "      <td>1238000</td>\n",
       "      <td>2021</td>\n",
       "    </tr>\n",
       "    <tr>\n",
       "      <th>477</th>\n",
       "      <td>Wisconsin</td>\n",
       "      <td>42000</td>\n",
       "      <td>47</td>\n",
       "      <td>750000</td>\n",
       "      <td>750000</td>\n",
       "      <td>2.81</td>\n",
       "      <td>5547000</td>\n",
       "      <td>2021</td>\n",
       "    </tr>\n",
       "    <tr>\n",
       "      <th>478</th>\n",
       "      <td>Wyoming</td>\n",
       "      <td>38000</td>\n",
       "      <td>58</td>\n",
       "      <td>242000</td>\n",
       "      <td>242000</td>\n",
       "      <td>2.07</td>\n",
       "      <td>4562000</td>\n",
       "      <td>2021</td>\n",
       "    </tr>\n",
       "  </tbody>\n",
       "</table>\n",
       "</div>"
      ],
      "text/plain": [
       "            state  colony_number  yield_per_colony  productions   stocks  \\\n",
       "469   SouthDakota         250000                49      5268000  5268000   \n",
       "470     Tennessee           8000                56        81000    81000   \n",
       "471         Texas         137000                56       384000   384000   \n",
       "472          Utah          31000                33        92000    92000   \n",
       "473       Vermont           7000                47        76000    76000   \n",
       "474      Virginia           6000                40        79000    79000   \n",
       "475    Washington          96000                32      1206000  1206000   \n",
       "476  WestVirginia           6000                43       136000   136000   \n",
       "477     Wisconsin          42000                47       750000   750000   \n",
       "478       Wyoming          38000                58       242000   242000   \n",
       "\n",
       "     average_price  value_of_prod  year  \n",
       "469           2.27       27808000  2021  \n",
       "470           5.00        2240000  2021  \n",
       "471           2.30       17646000  2021  \n",
       "472           2.18        2230000  2021  \n",
       "473           3.28        1079000  2021  \n",
       "474           8.23        1975000  2021  \n",
       "475           2.52        7741000  2021  \n",
       "476           4.80        1238000  2021  \n",
       "477           2.81        5547000  2021  \n",
       "478           2.07        4562000  2021  "
      ]
     },
     "execution_count": 93,
     "metadata": {},
     "output_type": "execute_result"
    }
   ],
   "source": [
    "honeyDF.tail(10)"
   ]
  },
  {
   "cell_type": "code",
   "execution_count": 94,
   "id": "aa4bb7fc",
   "metadata": {},
   "outputs": [
    {
     "data": {
      "text/html": [
       "<div>\n",
       "<style scoped>\n",
       "    .dataframe tbody tr th:only-of-type {\n",
       "        vertical-align: middle;\n",
       "    }\n",
       "\n",
       "    .dataframe tbody tr th {\n",
       "        vertical-align: top;\n",
       "    }\n",
       "\n",
       "    .dataframe thead th {\n",
       "        text-align: right;\n",
       "    }\n",
       "</style>\n",
       "<table border=\"1\" class=\"dataframe\">\n",
       "  <thead>\n",
       "    <tr style=\"text-align: right;\">\n",
       "      <th></th>\n",
       "      <th>state</th>\n",
       "      <th>colony_number</th>\n",
       "      <th>yield_per_colony</th>\n",
       "      <th>productions</th>\n",
       "      <th>stocks</th>\n",
       "      <th>average_price</th>\n",
       "      <th>value_of_prod</th>\n",
       "      <th>year</th>\n",
       "    </tr>\n",
       "  </thead>\n",
       "  <tbody>\n",
       "    <tr>\n",
       "      <th>count</th>\n",
       "      <td>479</td>\n",
       "      <td>479.000000</td>\n",
       "      <td>479.000000</td>\n",
       "      <td>4.790000e+02</td>\n",
       "      <td>4.790000e+02</td>\n",
       "      <td>479.000000</td>\n",
       "      <td>4.790000e+02</td>\n",
       "      <td>479.000000</td>\n",
       "    </tr>\n",
       "    <tr>\n",
       "      <th>unique</th>\n",
       "      <td>41</td>\n",
       "      <td>NaN</td>\n",
       "      <td>NaN</td>\n",
       "      <td>NaN</td>\n",
       "      <td>NaN</td>\n",
       "      <td>NaN</td>\n",
       "      <td>NaN</td>\n",
       "      <td>NaN</td>\n",
       "    </tr>\n",
       "    <tr>\n",
       "      <th>top</th>\n",
       "      <td>Alabama</td>\n",
       "      <td>NaN</td>\n",
       "      <td>NaN</td>\n",
       "      <td>NaN</td>\n",
       "      <td>NaN</td>\n",
       "      <td>NaN</td>\n",
       "      <td>NaN</td>\n",
       "      <td>NaN</td>\n",
       "    </tr>\n",
       "    <tr>\n",
       "      <th>freq</th>\n",
       "      <td>12</td>\n",
       "      <td>NaN</td>\n",
       "      <td>NaN</td>\n",
       "      <td>NaN</td>\n",
       "      <td>NaN</td>\n",
       "      <td>NaN</td>\n",
       "      <td>NaN</td>\n",
       "      <td>NaN</td>\n",
       "    </tr>\n",
       "    <tr>\n",
       "      <th>mean</th>\n",
       "      <td>NaN</td>\n",
       "      <td>66578.288100</td>\n",
       "      <td>53.167015</td>\n",
       "      <td>9.127724e+05</td>\n",
       "      <td>9.127724e+05</td>\n",
       "      <td>173.884614</td>\n",
       "      <td>7.832610e+06</td>\n",
       "      <td>2015.505219</td>\n",
       "    </tr>\n",
       "    <tr>\n",
       "      <th>std</th>\n",
       "      <td>NaN</td>\n",
       "      <td>99696.073858</td>\n",
       "      <td>17.066853</td>\n",
       "      <td>1.698062e+06</td>\n",
       "      <td>1.698062e+06</td>\n",
       "      <td>147.478891</td>\n",
       "      <td>1.209393e+07</td>\n",
       "      <td>3.457372</td>\n",
       "    </tr>\n",
       "    <tr>\n",
       "      <th>min</th>\n",
       "      <td>NaN</td>\n",
       "      <td>3000.000000</td>\n",
       "      <td>27.000000</td>\n",
       "      <td>1.200000e+04</td>\n",
       "      <td>1.200000e+04</td>\n",
       "      <td>1.300000</td>\n",
       "      <td>2.380000e+05</td>\n",
       "      <td>2010.000000</td>\n",
       "    </tr>\n",
       "    <tr>\n",
       "      <th>25%</th>\n",
       "      <td>NaN</td>\n",
       "      <td>10000.000000</td>\n",
       "      <td>41.000000</td>\n",
       "      <td>9.000000e+04</td>\n",
       "      <td>9.000000e+04</td>\n",
       "      <td>3.850000</td>\n",
       "      <td>1.611500e+06</td>\n",
       "      <td>2012.500000</td>\n",
       "    </tr>\n",
       "    <tr>\n",
       "      <th>50%</th>\n",
       "      <td>NaN</td>\n",
       "      <td>26000.000000</td>\n",
       "      <td>50.000000</td>\n",
       "      <td>2.550000e+05</td>\n",
       "      <td>2.550000e+05</td>\n",
       "      <td>192.000000</td>\n",
       "      <td>3.252000e+06</td>\n",
       "      <td>2016.000000</td>\n",
       "    </tr>\n",
       "    <tr>\n",
       "      <th>75%</th>\n",
       "      <td>NaN</td>\n",
       "      <td>77500.000000</td>\n",
       "      <td>62.000000</td>\n",
       "      <td>1.001500e+06</td>\n",
       "      <td>1.001500e+06</td>\n",
       "      <td>243.500000</td>\n",
       "      <td>8.350500e+06</td>\n",
       "      <td>2018.500000</td>\n",
       "    </tr>\n",
       "    <tr>\n",
       "      <th>max</th>\n",
       "      <td>NaN</td>\n",
       "      <td>550000.000000</td>\n",
       "      <td>131.000000</td>\n",
       "      <td>1.299500e+07</td>\n",
       "      <td>1.299500e+07</td>\n",
       "      <td>874.000000</td>\n",
       "      <td>8.385900e+07</td>\n",
       "      <td>2021.000000</td>\n",
       "    </tr>\n",
       "  </tbody>\n",
       "</table>\n",
       "</div>"
      ],
      "text/plain": [
       "          state  colony_number  yield_per_colony   productions        stocks  \\\n",
       "count       479     479.000000        479.000000  4.790000e+02  4.790000e+02   \n",
       "unique       41            NaN               NaN           NaN           NaN   \n",
       "top     Alabama            NaN               NaN           NaN           NaN   \n",
       "freq         12            NaN               NaN           NaN           NaN   \n",
       "mean        NaN   66578.288100         53.167015  9.127724e+05  9.127724e+05   \n",
       "std         NaN   99696.073858         17.066853  1.698062e+06  1.698062e+06   \n",
       "min         NaN    3000.000000         27.000000  1.200000e+04  1.200000e+04   \n",
       "25%         NaN   10000.000000         41.000000  9.000000e+04  9.000000e+04   \n",
       "50%         NaN   26000.000000         50.000000  2.550000e+05  2.550000e+05   \n",
       "75%         NaN   77500.000000         62.000000  1.001500e+06  1.001500e+06   \n",
       "max         NaN  550000.000000        131.000000  1.299500e+07  1.299500e+07   \n",
       "\n",
       "        average_price  value_of_prod         year  \n",
       "count      479.000000   4.790000e+02   479.000000  \n",
       "unique            NaN            NaN          NaN  \n",
       "top               NaN            NaN          NaN  \n",
       "freq              NaN            NaN          NaN  \n",
       "mean       173.884614   7.832610e+06  2015.505219  \n",
       "std        147.478891   1.209393e+07     3.457372  \n",
       "min          1.300000   2.380000e+05  2010.000000  \n",
       "25%          3.850000   1.611500e+06  2012.500000  \n",
       "50%        192.000000   3.252000e+06  2016.000000  \n",
       "75%        243.500000   8.350500e+06  2018.500000  \n",
       "max        874.000000   8.385900e+07  2021.000000  "
      ]
     },
     "execution_count": 94,
     "metadata": {},
     "output_type": "execute_result"
    }
   ],
   "source": [
    "#Checking Pandas dataframe (imported csv) for messiness\n",
    "honeyDF.describe(include=\"all\") "
   ]
  },
  {
   "cell_type": "markdown",
   "id": "b2b35d85",
   "metadata": {},
   "source": [
    "<h1> Replacing Qualitative State Data with Quantitative Data </h1>"
   ]
  },
  {
   "cell_type": "code",
   "execution_count": 95,
   "id": "4a03d030",
   "metadata": {
    "scrolled": false
   },
   "outputs": [],
   "source": [
    "#Replacing column data under pd.get_dummies led to 41 separate columns; too messy\n",
    "#assistance on replacement/dummy variables found via \n",
    "#https://www.geeksforgeeks.org/how-to-convert-categorical-variable-to-numeric-in-pandas/#:~:text=Method%201%3A%20Using%20replace(),education%20levels%20into%20numeric%20terms.\n",
    "honeyDF['state'].replace(['Alabama','Arizona','Arkansas','California','Colorado','Florida','Georgia','Hawaii',\n",
    "                     'Idaho','Illinois','Indiana','Iowa','Kansas','Kentucky','Louisiana','Maine',\n",
    "                     'Michigan','Minnesota','Mississippi','Missouri','Montana','Nebraska','NewJersey',\n",
    "                     'NewMexico','NewYork','NorthCarolina','NorthDakota','Ohio','Oregon','Pennsylvania','SouthDakota',\n",
    "                     'Tennessee','Texas','Utah','Vermont','Virginia','Washington','WestVirginia','Wisconsin',\n",
    "                     'Wyoming','SouthCarolina'],\n",
    "[0,1,2,3,4,5,6,7,8,9,10,11,12,13,14,15,16,17,18,19,20,21,22,23,24,25,26,27,28,29,30,\n",
    "31,32,33,34,35,36,37,38,39,40], inplace=True)"
   ]
  },
  {
   "cell_type": "code",
   "execution_count": 96,
   "id": "7afb491e",
   "metadata": {},
   "outputs": [
    {
     "data": {
      "text/html": [
       "<div>\n",
       "<style scoped>\n",
       "    .dataframe tbody tr th:only-of-type {\n",
       "        vertical-align: middle;\n",
       "    }\n",
       "\n",
       "    .dataframe tbody tr th {\n",
       "        vertical-align: top;\n",
       "    }\n",
       "\n",
       "    .dataframe thead th {\n",
       "        text-align: right;\n",
       "    }\n",
       "</style>\n",
       "<table border=\"1\" class=\"dataframe\">\n",
       "  <thead>\n",
       "    <tr style=\"text-align: right;\">\n",
       "      <th></th>\n",
       "      <th>state</th>\n",
       "      <th>colony_number</th>\n",
       "      <th>yield_per_colony</th>\n",
       "      <th>productions</th>\n",
       "      <th>stocks</th>\n",
       "      <th>average_price</th>\n",
       "      <th>value_of_prod</th>\n",
       "      <th>year</th>\n",
       "    </tr>\n",
       "  </thead>\n",
       "  <tbody>\n",
       "    <tr>\n",
       "      <th>0</th>\n",
       "      <td>0</td>\n",
       "      <td>9000</td>\n",
       "      <td>54</td>\n",
       "      <td>73000</td>\n",
       "      <td>73000</td>\n",
       "      <td>240.0</td>\n",
       "      <td>1166000</td>\n",
       "      <td>2010</td>\n",
       "    </tr>\n",
       "    <tr>\n",
       "      <th>1</th>\n",
       "      <td>1</td>\n",
       "      <td>24000</td>\n",
       "      <td>77</td>\n",
       "      <td>665000</td>\n",
       "      <td>665000</td>\n",
       "      <td>152.0</td>\n",
       "      <td>2809000</td>\n",
       "      <td>2010</td>\n",
       "    </tr>\n",
       "    <tr>\n",
       "      <th>2</th>\n",
       "      <td>2</td>\n",
       "      <td>25000</td>\n",
       "      <td>60</td>\n",
       "      <td>360000</td>\n",
       "      <td>360000</td>\n",
       "      <td>147.0</td>\n",
       "      <td>2205000</td>\n",
       "      <td>2010</td>\n",
       "    </tr>\n",
       "    <tr>\n",
       "      <th>3</th>\n",
       "      <td>3</td>\n",
       "      <td>410000</td>\n",
       "      <td>67</td>\n",
       "      <td>6318000</td>\n",
       "      <td>6318000</td>\n",
       "      <td>155.0</td>\n",
       "      <td>42579000</td>\n",
       "      <td>2010</td>\n",
       "    </tr>\n",
       "    <tr>\n",
       "      <th>4</th>\n",
       "      <td>4</td>\n",
       "      <td>34000</td>\n",
       "      <td>56</td>\n",
       "      <td>533000</td>\n",
       "      <td>533000</td>\n",
       "      <td>152.0</td>\n",
       "      <td>2894000</td>\n",
       "      <td>2010</td>\n",
       "    </tr>\n",
       "    <tr>\n",
       "      <th>5</th>\n",
       "      <td>5</td>\n",
       "      <td>200000</td>\n",
       "      <td>69</td>\n",
       "      <td>1794000</td>\n",
       "      <td>1794000</td>\n",
       "      <td>156.0</td>\n",
       "      <td>21528000</td>\n",
       "      <td>2010</td>\n",
       "    </tr>\n",
       "    <tr>\n",
       "      <th>6</th>\n",
       "      <td>6</td>\n",
       "      <td>55000</td>\n",
       "      <td>46</td>\n",
       "      <td>152000</td>\n",
       "      <td>152000</td>\n",
       "      <td>167.0</td>\n",
       "      <td>4225000</td>\n",
       "      <td>2010</td>\n",
       "    </tr>\n",
       "    <tr>\n",
       "      <th>7</th>\n",
       "      <td>7</td>\n",
       "      <td>10000</td>\n",
       "      <td>77</td>\n",
       "      <td>239000</td>\n",
       "      <td>239000</td>\n",
       "      <td>275.0</td>\n",
       "      <td>2118000</td>\n",
       "      <td>2010</td>\n",
       "    </tr>\n",
       "    <tr>\n",
       "      <th>8</th>\n",
       "      <td>8</td>\n",
       "      <td>97000</td>\n",
       "      <td>27</td>\n",
       "      <td>1179000</td>\n",
       "      <td>1179000</td>\n",
       "      <td>161.0</td>\n",
       "      <td>4217000</td>\n",
       "      <td>2010</td>\n",
       "    </tr>\n",
       "    <tr>\n",
       "      <th>9</th>\n",
       "      <td>9</td>\n",
       "      <td>9000</td>\n",
       "      <td>41</td>\n",
       "      <td>92000</td>\n",
       "      <td>92000</td>\n",
       "      <td>278.0</td>\n",
       "      <td>1026000</td>\n",
       "      <td>2010</td>\n",
       "    </tr>\n",
       "  </tbody>\n",
       "</table>\n",
       "</div>"
      ],
      "text/plain": [
       "   state  colony_number  yield_per_colony  productions   stocks  \\\n",
       "0      0           9000                54        73000    73000   \n",
       "1      1          24000                77       665000   665000   \n",
       "2      2          25000                60       360000   360000   \n",
       "3      3         410000                67      6318000  6318000   \n",
       "4      4          34000                56       533000   533000   \n",
       "5      5         200000                69      1794000  1794000   \n",
       "6      6          55000                46       152000   152000   \n",
       "7      7          10000                77       239000   239000   \n",
       "8      8          97000                27      1179000  1179000   \n",
       "9      9           9000                41        92000    92000   \n",
       "\n",
       "   average_price  value_of_prod  year  \n",
       "0          240.0        1166000  2010  \n",
       "1          152.0        2809000  2010  \n",
       "2          147.0        2205000  2010  \n",
       "3          155.0       42579000  2010  \n",
       "4          152.0        2894000  2010  \n",
       "5          156.0       21528000  2010  \n",
       "6          167.0        4225000  2010  \n",
       "7          275.0        2118000  2010  \n",
       "8          161.0        4217000  2010  \n",
       "9          278.0        1026000  2010  "
      ]
     },
     "execution_count": 96,
     "metadata": {},
     "output_type": "execute_result"
    }
   ],
   "source": [
    "honeyDF.head(10)"
   ]
  },
  {
   "cell_type": "code",
   "execution_count": 97,
   "id": "779b0cd4",
   "metadata": {},
   "outputs": [
    {
     "data": {
      "text/html": [
       "<div>\n",
       "<style scoped>\n",
       "    .dataframe tbody tr th:only-of-type {\n",
       "        vertical-align: middle;\n",
       "    }\n",
       "\n",
       "    .dataframe tbody tr th {\n",
       "        vertical-align: top;\n",
       "    }\n",
       "\n",
       "    .dataframe thead th {\n",
       "        text-align: right;\n",
       "    }\n",
       "</style>\n",
       "<table border=\"1\" class=\"dataframe\">\n",
       "  <thead>\n",
       "    <tr style=\"text-align: right;\">\n",
       "      <th></th>\n",
       "      <th>state</th>\n",
       "      <th>colony_number</th>\n",
       "      <th>yield_per_colony</th>\n",
       "      <th>productions</th>\n",
       "      <th>stocks</th>\n",
       "      <th>average_price</th>\n",
       "      <th>value_of_prod</th>\n",
       "      <th>year</th>\n",
       "    </tr>\n",
       "  </thead>\n",
       "  <tbody>\n",
       "    <tr>\n",
       "      <th>0</th>\n",
       "      <td>0</td>\n",
       "      <td>9000</td>\n",
       "      <td>54</td>\n",
       "      <td>73000</td>\n",
       "      <td>73000</td>\n",
       "      <td>240.00</td>\n",
       "      <td>1166000</td>\n",
       "      <td>2010</td>\n",
       "    </tr>\n",
       "    <tr>\n",
       "      <th>1</th>\n",
       "      <td>1</td>\n",
       "      <td>24000</td>\n",
       "      <td>77</td>\n",
       "      <td>665000</td>\n",
       "      <td>665000</td>\n",
       "      <td>152.00</td>\n",
       "      <td>2809000</td>\n",
       "      <td>2010</td>\n",
       "    </tr>\n",
       "    <tr>\n",
       "      <th>2</th>\n",
       "      <td>2</td>\n",
       "      <td>25000</td>\n",
       "      <td>60</td>\n",
       "      <td>360000</td>\n",
       "      <td>360000</td>\n",
       "      <td>147.00</td>\n",
       "      <td>2205000</td>\n",
       "      <td>2010</td>\n",
       "    </tr>\n",
       "    <tr>\n",
       "      <th>3</th>\n",
       "      <td>3</td>\n",
       "      <td>410000</td>\n",
       "      <td>67</td>\n",
       "      <td>6318000</td>\n",
       "      <td>6318000</td>\n",
       "      <td>155.00</td>\n",
       "      <td>42579000</td>\n",
       "      <td>2010</td>\n",
       "    </tr>\n",
       "    <tr>\n",
       "      <th>4</th>\n",
       "      <td>4</td>\n",
       "      <td>34000</td>\n",
       "      <td>56</td>\n",
       "      <td>533000</td>\n",
       "      <td>533000</td>\n",
       "      <td>152.00</td>\n",
       "      <td>2894000</td>\n",
       "      <td>2010</td>\n",
       "    </tr>\n",
       "    <tr>\n",
       "      <th>...</th>\n",
       "      <td>...</td>\n",
       "      <td>...</td>\n",
       "      <td>...</td>\n",
       "      <td>...</td>\n",
       "      <td>...</td>\n",
       "      <td>...</td>\n",
       "      <td>...</td>\n",
       "      <td>...</td>\n",
       "    </tr>\n",
       "    <tr>\n",
       "      <th>474</th>\n",
       "      <td>35</td>\n",
       "      <td>6000</td>\n",
       "      <td>40</td>\n",
       "      <td>79000</td>\n",
       "      <td>79000</td>\n",
       "      <td>8.23</td>\n",
       "      <td>1975000</td>\n",
       "      <td>2021</td>\n",
       "    </tr>\n",
       "    <tr>\n",
       "      <th>475</th>\n",
       "      <td>36</td>\n",
       "      <td>96000</td>\n",
       "      <td>32</td>\n",
       "      <td>1206000</td>\n",
       "      <td>1206000</td>\n",
       "      <td>2.52</td>\n",
       "      <td>7741000</td>\n",
       "      <td>2021</td>\n",
       "    </tr>\n",
       "    <tr>\n",
       "      <th>476</th>\n",
       "      <td>37</td>\n",
       "      <td>6000</td>\n",
       "      <td>43</td>\n",
       "      <td>136000</td>\n",
       "      <td>136000</td>\n",
       "      <td>4.80</td>\n",
       "      <td>1238000</td>\n",
       "      <td>2021</td>\n",
       "    </tr>\n",
       "    <tr>\n",
       "      <th>477</th>\n",
       "      <td>38</td>\n",
       "      <td>42000</td>\n",
       "      <td>47</td>\n",
       "      <td>750000</td>\n",
       "      <td>750000</td>\n",
       "      <td>2.81</td>\n",
       "      <td>5547000</td>\n",
       "      <td>2021</td>\n",
       "    </tr>\n",
       "    <tr>\n",
       "      <th>478</th>\n",
       "      <td>39</td>\n",
       "      <td>38000</td>\n",
       "      <td>58</td>\n",
       "      <td>242000</td>\n",
       "      <td>242000</td>\n",
       "      <td>2.07</td>\n",
       "      <td>4562000</td>\n",
       "      <td>2021</td>\n",
       "    </tr>\n",
       "  </tbody>\n",
       "</table>\n",
       "<p>479 rows × 8 columns</p>\n",
       "</div>"
      ],
      "text/plain": [
       "     state  colony_number  yield_per_colony  productions   stocks  \\\n",
       "0        0           9000                54        73000    73000   \n",
       "1        1          24000                77       665000   665000   \n",
       "2        2          25000                60       360000   360000   \n",
       "3        3         410000                67      6318000  6318000   \n",
       "4        4          34000                56       533000   533000   \n",
       "..     ...            ...               ...          ...      ...   \n",
       "474     35           6000                40        79000    79000   \n",
       "475     36          96000                32      1206000  1206000   \n",
       "476     37           6000                43       136000   136000   \n",
       "477     38          42000                47       750000   750000   \n",
       "478     39          38000                58       242000   242000   \n",
       "\n",
       "     average_price  value_of_prod  year  \n",
       "0           240.00        1166000  2010  \n",
       "1           152.00        2809000  2010  \n",
       "2           147.00        2205000  2010  \n",
       "3           155.00       42579000  2010  \n",
       "4           152.00        2894000  2010  \n",
       "..             ...            ...   ...  \n",
       "474           8.23        1975000  2021  \n",
       "475           2.52        7741000  2021  \n",
       "476           4.80        1238000  2021  \n",
       "477           2.81        5547000  2021  \n",
       "478           2.07        4562000  2021  \n",
       "\n",
       "[479 rows x 8 columns]"
      ]
     },
     "execution_count": 97,
     "metadata": {},
     "output_type": "execute_result"
    }
   ],
   "source": [
    "#Drop any N/A\n",
    "honeyDF.dropna()\n"
   ]
  },
  {
   "cell_type": "code",
   "execution_count": 98,
   "id": "bdfd33f6",
   "metadata": {
    "scrolled": true
   },
   "outputs": [
    {
     "data": {
      "text/html": [
       "<div>\n",
       "<style scoped>\n",
       "    .dataframe tbody tr th:only-of-type {\n",
       "        vertical-align: middle;\n",
       "    }\n",
       "\n",
       "    .dataframe tbody tr th {\n",
       "        vertical-align: top;\n",
       "    }\n",
       "\n",
       "    .dataframe thead th {\n",
       "        text-align: right;\n",
       "    }\n",
       "</style>\n",
       "<table border=\"1\" class=\"dataframe\">\n",
       "  <thead>\n",
       "    <tr style=\"text-align: right;\">\n",
       "      <th></th>\n",
       "      <th>state</th>\n",
       "      <th>colony_number</th>\n",
       "      <th>yield_per_colony</th>\n",
       "      <th>productions</th>\n",
       "      <th>stocks</th>\n",
       "      <th>average_price</th>\n",
       "      <th>value_of_prod</th>\n",
       "      <th>year</th>\n",
       "    </tr>\n",
       "  </thead>\n",
       "  <tbody>\n",
       "    <tr>\n",
       "      <th>count</th>\n",
       "      <td>479.000000</td>\n",
       "      <td>479.000000</td>\n",
       "      <td>479.000000</td>\n",
       "      <td>4.790000e+02</td>\n",
       "      <td>4.790000e+02</td>\n",
       "      <td>479.000000</td>\n",
       "      <td>4.790000e+02</td>\n",
       "      <td>479.000000</td>\n",
       "    </tr>\n",
       "    <tr>\n",
       "      <th>mean</th>\n",
       "      <td>19.776618</td>\n",
       "      <td>66578.288100</td>\n",
       "      <td>53.167015</td>\n",
       "      <td>9.127724e+05</td>\n",
       "      <td>9.127724e+05</td>\n",
       "      <td>173.884614</td>\n",
       "      <td>7.832610e+06</td>\n",
       "      <td>2015.505219</td>\n",
       "    </tr>\n",
       "    <tr>\n",
       "      <th>std</th>\n",
       "      <td>11.854690</td>\n",
       "      <td>99696.073858</td>\n",
       "      <td>17.066853</td>\n",
       "      <td>1.698062e+06</td>\n",
       "      <td>1.698062e+06</td>\n",
       "      <td>147.478891</td>\n",
       "      <td>1.209393e+07</td>\n",
       "      <td>3.457372</td>\n",
       "    </tr>\n",
       "    <tr>\n",
       "      <th>min</th>\n",
       "      <td>0.000000</td>\n",
       "      <td>3000.000000</td>\n",
       "      <td>27.000000</td>\n",
       "      <td>1.200000e+04</td>\n",
       "      <td>1.200000e+04</td>\n",
       "      <td>1.300000</td>\n",
       "      <td>2.380000e+05</td>\n",
       "      <td>2010.000000</td>\n",
       "    </tr>\n",
       "    <tr>\n",
       "      <th>25%</th>\n",
       "      <td>9.500000</td>\n",
       "      <td>10000.000000</td>\n",
       "      <td>41.000000</td>\n",
       "      <td>9.000000e+04</td>\n",
       "      <td>9.000000e+04</td>\n",
       "      <td>3.850000</td>\n",
       "      <td>1.611500e+06</td>\n",
       "      <td>2012.500000</td>\n",
       "    </tr>\n",
       "    <tr>\n",
       "      <th>50%</th>\n",
       "      <td>19.000000</td>\n",
       "      <td>26000.000000</td>\n",
       "      <td>50.000000</td>\n",
       "      <td>2.550000e+05</td>\n",
       "      <td>2.550000e+05</td>\n",
       "      <td>192.000000</td>\n",
       "      <td>3.252000e+06</td>\n",
       "      <td>2016.000000</td>\n",
       "    </tr>\n",
       "    <tr>\n",
       "      <th>75%</th>\n",
       "      <td>30.000000</td>\n",
       "      <td>77500.000000</td>\n",
       "      <td>62.000000</td>\n",
       "      <td>1.001500e+06</td>\n",
       "      <td>1.001500e+06</td>\n",
       "      <td>243.500000</td>\n",
       "      <td>8.350500e+06</td>\n",
       "      <td>2018.500000</td>\n",
       "    </tr>\n",
       "    <tr>\n",
       "      <th>max</th>\n",
       "      <td>40.000000</td>\n",
       "      <td>550000.000000</td>\n",
       "      <td>131.000000</td>\n",
       "      <td>1.299500e+07</td>\n",
       "      <td>1.299500e+07</td>\n",
       "      <td>874.000000</td>\n",
       "      <td>8.385900e+07</td>\n",
       "      <td>2021.000000</td>\n",
       "    </tr>\n",
       "  </tbody>\n",
       "</table>\n",
       "</div>"
      ],
      "text/plain": [
       "            state  colony_number  yield_per_colony   productions  \\\n",
       "count  479.000000     479.000000        479.000000  4.790000e+02   \n",
       "mean    19.776618   66578.288100         53.167015  9.127724e+05   \n",
       "std     11.854690   99696.073858         17.066853  1.698062e+06   \n",
       "min      0.000000    3000.000000         27.000000  1.200000e+04   \n",
       "25%      9.500000   10000.000000         41.000000  9.000000e+04   \n",
       "50%     19.000000   26000.000000         50.000000  2.550000e+05   \n",
       "75%     30.000000   77500.000000         62.000000  1.001500e+06   \n",
       "max     40.000000  550000.000000        131.000000  1.299500e+07   \n",
       "\n",
       "             stocks  average_price  value_of_prod         year  \n",
       "count  4.790000e+02     479.000000   4.790000e+02   479.000000  \n",
       "mean   9.127724e+05     173.884614   7.832610e+06  2015.505219  \n",
       "std    1.698062e+06     147.478891   1.209393e+07     3.457372  \n",
       "min    1.200000e+04       1.300000   2.380000e+05  2010.000000  \n",
       "25%    9.000000e+04       3.850000   1.611500e+06  2012.500000  \n",
       "50%    2.550000e+05     192.000000   3.252000e+06  2016.000000  \n",
       "75%    1.001500e+06     243.500000   8.350500e+06  2018.500000  \n",
       "max    1.299500e+07     874.000000   8.385900e+07  2021.000000  "
      ]
     },
     "execution_count": 98,
     "metadata": {},
     "output_type": "execute_result"
    }
   ],
   "source": [
    "honeyDF.describe(include=\"all\") "
   ]
  },
  {
   "cell_type": "markdown",
   "id": "70ab10a0",
   "metadata": {},
   "source": [
    "<h1> Correlation Matrix of Honey Data Table to find Correlation between Column Data </h1>"
   ]
  },
  {
   "cell_type": "code",
   "execution_count": 70,
   "id": "77ff626b",
   "metadata": {},
   "outputs": [
    {
     "data": {
      "application/vnd.plotly.v1+json": {
       "config": {
        "plotlyServerURL": "https://plot.ly"
       },
       "data": [
        {
         "coloraxis": "coloraxis",
         "hovertemplate": "x: %{x}<br>y: %{y}<br>color: %{z}<extra></extra>",
         "name": "0",
         "texttemplate": "%{z}",
         "type": "heatmap",
         "x": [
          "state",
          "colony_number",
          "yield_per_colony",
          "productions",
          "stocks",
          "average_price",
          "value_of_prod",
          "year"
         ],
         "xaxis": "x",
         "y": [
          "state",
          "colony_number",
          "yield_per_colony",
          "productions",
          "stocks",
          "average_price",
          "value_of_prod",
          "year"
         ],
         "yaxis": "y",
         "z": [
          [
           1,
           -0.03549298668540714,
           -0.0637279173934593,
           0.09663023238157481,
           0.09663023238157481,
           0.07156856449386567,
           0.024627948639371764,
           0.0142950083305727
          ],
          [
           -0.03549298668540714,
           1,
           0.1667392588347326,
           0.8288589211330716,
           0.8288589211330716,
           -0.17725999978169696,
           0.95815524430754,
           0.013104227845580957
          ],
          [
           -0.0637279173934593,
           0.1667392588347326,
           1,
           0.27818206518349536,
           0.27818206518349536,
           -0.02990309438976524,
           0.29190918323945436,
           -0.14232952893021333
          ],
          [
           0.09663023238157481,
           0.8288589211330716,
           0.27818206518349536,
           1,
           1,
           -0.12065274993046103,
           0.853733929075904,
           -0.04134256957244232
          ],
          [
           0.09663023238157481,
           0.8288589211330716,
           0.27818206518349536,
           1,
           1,
           -0.12065274993046103,
           0.853733929075904,
           -0.04134256957244232
          ],
          [
           0.07156856449386567,
           -0.17725999978169696,
           -0.02990309438976524,
           -0.12065274993046103,
           -0.12065274993046103,
           1,
           -0.14438072835328422,
           -0.562964568591012
          ],
          [
           0.024627948639371764,
           0.95815524430754,
           0.29190918323945436,
           0.853733929075904,
           0.853733929075904,
           -0.14438072835328422,
           1,
           0.020532455685993326
          ],
          [
           0.0142950083305727,
           0.013104227845580957,
           -0.14232952893021333,
           -0.04134256957244232,
           -0.04134256957244232,
           -0.562964568591012,
           0.020532455685993326,
           1
          ]
         ]
        }
       ],
       "layout": {
        "coloraxis": {
         "colorscale": [
          [
           0,
           "#0d0887"
          ],
          [
           0.1111111111111111,
           "#46039f"
          ],
          [
           0.2222222222222222,
           "#7201a8"
          ],
          [
           0.3333333333333333,
           "#9c179e"
          ],
          [
           0.4444444444444444,
           "#bd3786"
          ],
          [
           0.5555555555555556,
           "#d8576b"
          ],
          [
           0.6666666666666666,
           "#ed7953"
          ],
          [
           0.7777777777777778,
           "#fb9f3a"
          ],
          [
           0.8888888888888888,
           "#fdca26"
          ],
          [
           1,
           "#f0f921"
          ]
         ]
        },
        "margin": {
         "t": 60
        },
        "template": {
         "data": {
          "bar": [
           {
            "error_x": {
             "color": "#2a3f5f"
            },
            "error_y": {
             "color": "#2a3f5f"
            },
            "marker": {
             "line": {
              "color": "#E5ECF6",
              "width": 0.5
             },
             "pattern": {
              "fillmode": "overlay",
              "size": 10,
              "solidity": 0.2
             }
            },
            "type": "bar"
           }
          ],
          "barpolar": [
           {
            "marker": {
             "line": {
              "color": "#E5ECF6",
              "width": 0.5
             },
             "pattern": {
              "fillmode": "overlay",
              "size": 10,
              "solidity": 0.2
             }
            },
            "type": "barpolar"
           }
          ],
          "carpet": [
           {
            "aaxis": {
             "endlinecolor": "#2a3f5f",
             "gridcolor": "white",
             "linecolor": "white",
             "minorgridcolor": "white",
             "startlinecolor": "#2a3f5f"
            },
            "baxis": {
             "endlinecolor": "#2a3f5f",
             "gridcolor": "white",
             "linecolor": "white",
             "minorgridcolor": "white",
             "startlinecolor": "#2a3f5f"
            },
            "type": "carpet"
           }
          ],
          "choropleth": [
           {
            "colorbar": {
             "outlinewidth": 0,
             "ticks": ""
            },
            "type": "choropleth"
           }
          ],
          "contour": [
           {
            "colorbar": {
             "outlinewidth": 0,
             "ticks": ""
            },
            "colorscale": [
             [
              0,
              "#0d0887"
             ],
             [
              0.1111111111111111,
              "#46039f"
             ],
             [
              0.2222222222222222,
              "#7201a8"
             ],
             [
              0.3333333333333333,
              "#9c179e"
             ],
             [
              0.4444444444444444,
              "#bd3786"
             ],
             [
              0.5555555555555556,
              "#d8576b"
             ],
             [
              0.6666666666666666,
              "#ed7953"
             ],
             [
              0.7777777777777778,
              "#fb9f3a"
             ],
             [
              0.8888888888888888,
              "#fdca26"
             ],
             [
              1,
              "#f0f921"
             ]
            ],
            "type": "contour"
           }
          ],
          "contourcarpet": [
           {
            "colorbar": {
             "outlinewidth": 0,
             "ticks": ""
            },
            "type": "contourcarpet"
           }
          ],
          "heatmap": [
           {
            "colorbar": {
             "outlinewidth": 0,
             "ticks": ""
            },
            "colorscale": [
             [
              0,
              "#0d0887"
             ],
             [
              0.1111111111111111,
              "#46039f"
             ],
             [
              0.2222222222222222,
              "#7201a8"
             ],
             [
              0.3333333333333333,
              "#9c179e"
             ],
             [
              0.4444444444444444,
              "#bd3786"
             ],
             [
              0.5555555555555556,
              "#d8576b"
             ],
             [
              0.6666666666666666,
              "#ed7953"
             ],
             [
              0.7777777777777778,
              "#fb9f3a"
             ],
             [
              0.8888888888888888,
              "#fdca26"
             ],
             [
              1,
              "#f0f921"
             ]
            ],
            "type": "heatmap"
           }
          ],
          "heatmapgl": [
           {
            "colorbar": {
             "outlinewidth": 0,
             "ticks": ""
            },
            "colorscale": [
             [
              0,
              "#0d0887"
             ],
             [
              0.1111111111111111,
              "#46039f"
             ],
             [
              0.2222222222222222,
              "#7201a8"
             ],
             [
              0.3333333333333333,
              "#9c179e"
             ],
             [
              0.4444444444444444,
              "#bd3786"
             ],
             [
              0.5555555555555556,
              "#d8576b"
             ],
             [
              0.6666666666666666,
              "#ed7953"
             ],
             [
              0.7777777777777778,
              "#fb9f3a"
             ],
             [
              0.8888888888888888,
              "#fdca26"
             ],
             [
              1,
              "#f0f921"
             ]
            ],
            "type": "heatmapgl"
           }
          ],
          "histogram": [
           {
            "marker": {
             "pattern": {
              "fillmode": "overlay",
              "size": 10,
              "solidity": 0.2
             }
            },
            "type": "histogram"
           }
          ],
          "histogram2d": [
           {
            "colorbar": {
             "outlinewidth": 0,
             "ticks": ""
            },
            "colorscale": [
             [
              0,
              "#0d0887"
             ],
             [
              0.1111111111111111,
              "#46039f"
             ],
             [
              0.2222222222222222,
              "#7201a8"
             ],
             [
              0.3333333333333333,
              "#9c179e"
             ],
             [
              0.4444444444444444,
              "#bd3786"
             ],
             [
              0.5555555555555556,
              "#d8576b"
             ],
             [
              0.6666666666666666,
              "#ed7953"
             ],
             [
              0.7777777777777778,
              "#fb9f3a"
             ],
             [
              0.8888888888888888,
              "#fdca26"
             ],
             [
              1,
              "#f0f921"
             ]
            ],
            "type": "histogram2d"
           }
          ],
          "histogram2dcontour": [
           {
            "colorbar": {
             "outlinewidth": 0,
             "ticks": ""
            },
            "colorscale": [
             [
              0,
              "#0d0887"
             ],
             [
              0.1111111111111111,
              "#46039f"
             ],
             [
              0.2222222222222222,
              "#7201a8"
             ],
             [
              0.3333333333333333,
              "#9c179e"
             ],
             [
              0.4444444444444444,
              "#bd3786"
             ],
             [
              0.5555555555555556,
              "#d8576b"
             ],
             [
              0.6666666666666666,
              "#ed7953"
             ],
             [
              0.7777777777777778,
              "#fb9f3a"
             ],
             [
              0.8888888888888888,
              "#fdca26"
             ],
             [
              1,
              "#f0f921"
             ]
            ],
            "type": "histogram2dcontour"
           }
          ],
          "mesh3d": [
           {
            "colorbar": {
             "outlinewidth": 0,
             "ticks": ""
            },
            "type": "mesh3d"
           }
          ],
          "parcoords": [
           {
            "line": {
             "colorbar": {
              "outlinewidth": 0,
              "ticks": ""
             }
            },
            "type": "parcoords"
           }
          ],
          "pie": [
           {
            "automargin": true,
            "type": "pie"
           }
          ],
          "scatter": [
           {
            "marker": {
             "colorbar": {
              "outlinewidth": 0,
              "ticks": ""
             }
            },
            "type": "scatter"
           }
          ],
          "scatter3d": [
           {
            "line": {
             "colorbar": {
              "outlinewidth": 0,
              "ticks": ""
             }
            },
            "marker": {
             "colorbar": {
              "outlinewidth": 0,
              "ticks": ""
             }
            },
            "type": "scatter3d"
           }
          ],
          "scattercarpet": [
           {
            "marker": {
             "colorbar": {
              "outlinewidth": 0,
              "ticks": ""
             }
            },
            "type": "scattercarpet"
           }
          ],
          "scattergeo": [
           {
            "marker": {
             "colorbar": {
              "outlinewidth": 0,
              "ticks": ""
             }
            },
            "type": "scattergeo"
           }
          ],
          "scattergl": [
           {
            "marker": {
             "colorbar": {
              "outlinewidth": 0,
              "ticks": ""
             }
            },
            "type": "scattergl"
           }
          ],
          "scattermapbox": [
           {
            "marker": {
             "colorbar": {
              "outlinewidth": 0,
              "ticks": ""
             }
            },
            "type": "scattermapbox"
           }
          ],
          "scatterpolar": [
           {
            "marker": {
             "colorbar": {
              "outlinewidth": 0,
              "ticks": ""
             }
            },
            "type": "scatterpolar"
           }
          ],
          "scatterpolargl": [
           {
            "marker": {
             "colorbar": {
              "outlinewidth": 0,
              "ticks": ""
             }
            },
            "type": "scatterpolargl"
           }
          ],
          "scatterternary": [
           {
            "marker": {
             "colorbar": {
              "outlinewidth": 0,
              "ticks": ""
             }
            },
            "type": "scatterternary"
           }
          ],
          "surface": [
           {
            "colorbar": {
             "outlinewidth": 0,
             "ticks": ""
            },
            "colorscale": [
             [
              0,
              "#0d0887"
             ],
             [
              0.1111111111111111,
              "#46039f"
             ],
             [
              0.2222222222222222,
              "#7201a8"
             ],
             [
              0.3333333333333333,
              "#9c179e"
             ],
             [
              0.4444444444444444,
              "#bd3786"
             ],
             [
              0.5555555555555556,
              "#d8576b"
             ],
             [
              0.6666666666666666,
              "#ed7953"
             ],
             [
              0.7777777777777778,
              "#fb9f3a"
             ],
             [
              0.8888888888888888,
              "#fdca26"
             ],
             [
              1,
              "#f0f921"
             ]
            ],
            "type": "surface"
           }
          ],
          "table": [
           {
            "cells": {
             "fill": {
              "color": "#EBF0F8"
             },
             "line": {
              "color": "white"
             }
            },
            "header": {
             "fill": {
              "color": "#C8D4E3"
             },
             "line": {
              "color": "white"
             }
            },
            "type": "table"
           }
          ]
         },
         "layout": {
          "annotationdefaults": {
           "arrowcolor": "#2a3f5f",
           "arrowhead": 0,
           "arrowwidth": 1
          },
          "autotypenumbers": "strict",
          "coloraxis": {
           "colorbar": {
            "outlinewidth": 0,
            "ticks": ""
           }
          },
          "colorscale": {
           "diverging": [
            [
             0,
             "#8e0152"
            ],
            [
             0.1,
             "#c51b7d"
            ],
            [
             0.2,
             "#de77ae"
            ],
            [
             0.3,
             "#f1b6da"
            ],
            [
             0.4,
             "#fde0ef"
            ],
            [
             0.5,
             "#f7f7f7"
            ],
            [
             0.6,
             "#e6f5d0"
            ],
            [
             0.7,
             "#b8e186"
            ],
            [
             0.8,
             "#7fbc41"
            ],
            [
             0.9,
             "#4d9221"
            ],
            [
             1,
             "#276419"
            ]
           ],
           "sequential": [
            [
             0,
             "#0d0887"
            ],
            [
             0.1111111111111111,
             "#46039f"
            ],
            [
             0.2222222222222222,
             "#7201a8"
            ],
            [
             0.3333333333333333,
             "#9c179e"
            ],
            [
             0.4444444444444444,
             "#bd3786"
            ],
            [
             0.5555555555555556,
             "#d8576b"
            ],
            [
             0.6666666666666666,
             "#ed7953"
            ],
            [
             0.7777777777777778,
             "#fb9f3a"
            ],
            [
             0.8888888888888888,
             "#fdca26"
            ],
            [
             1,
             "#f0f921"
            ]
           ],
           "sequentialminus": [
            [
             0,
             "#0d0887"
            ],
            [
             0.1111111111111111,
             "#46039f"
            ],
            [
             0.2222222222222222,
             "#7201a8"
            ],
            [
             0.3333333333333333,
             "#9c179e"
            ],
            [
             0.4444444444444444,
             "#bd3786"
            ],
            [
             0.5555555555555556,
             "#d8576b"
            ],
            [
             0.6666666666666666,
             "#ed7953"
            ],
            [
             0.7777777777777778,
             "#fb9f3a"
            ],
            [
             0.8888888888888888,
             "#fdca26"
            ],
            [
             1,
             "#f0f921"
            ]
           ]
          },
          "colorway": [
           "#636efa",
           "#EF553B",
           "#00cc96",
           "#ab63fa",
           "#FFA15A",
           "#19d3f3",
           "#FF6692",
           "#B6E880",
           "#FF97FF",
           "#FECB52"
          ],
          "font": {
           "color": "#2a3f5f"
          },
          "geo": {
           "bgcolor": "white",
           "lakecolor": "white",
           "landcolor": "#E5ECF6",
           "showlakes": true,
           "showland": true,
           "subunitcolor": "white"
          },
          "hoverlabel": {
           "align": "left"
          },
          "hovermode": "closest",
          "mapbox": {
           "style": "light"
          },
          "paper_bgcolor": "white",
          "plot_bgcolor": "#E5ECF6",
          "polar": {
           "angularaxis": {
            "gridcolor": "white",
            "linecolor": "white",
            "ticks": ""
           },
           "bgcolor": "#E5ECF6",
           "radialaxis": {
            "gridcolor": "white",
            "linecolor": "white",
            "ticks": ""
           }
          },
          "scene": {
           "xaxis": {
            "backgroundcolor": "#E5ECF6",
            "gridcolor": "white",
            "gridwidth": 2,
            "linecolor": "white",
            "showbackground": true,
            "ticks": "",
            "zerolinecolor": "white"
           },
           "yaxis": {
            "backgroundcolor": "#E5ECF6",
            "gridcolor": "white",
            "gridwidth": 2,
            "linecolor": "white",
            "showbackground": true,
            "ticks": "",
            "zerolinecolor": "white"
           },
           "zaxis": {
            "backgroundcolor": "#E5ECF6",
            "gridcolor": "white",
            "gridwidth": 2,
            "linecolor": "white",
            "showbackground": true,
            "ticks": "",
            "zerolinecolor": "white"
           }
          },
          "shapedefaults": {
           "line": {
            "color": "#2a3f5f"
           }
          },
          "ternary": {
           "aaxis": {
            "gridcolor": "white",
            "linecolor": "white",
            "ticks": ""
           },
           "baxis": {
            "gridcolor": "white",
            "linecolor": "white",
            "ticks": ""
           },
           "bgcolor": "#E5ECF6",
           "caxis": {
            "gridcolor": "white",
            "linecolor": "white",
            "ticks": ""
           }
          },
          "title": {
           "x": 0.05
          },
          "xaxis": {
           "automargin": true,
           "gridcolor": "white",
           "linecolor": "white",
           "ticks": "",
           "title": {
            "standoff": 15
           },
           "zerolinecolor": "white",
           "zerolinewidth": 2
          },
          "yaxis": {
           "automargin": true,
           "gridcolor": "white",
           "linecolor": "white",
           "ticks": "",
           "title": {
            "standoff": 15
           },
           "zerolinecolor": "white",
           "zerolinewidth": 2
          }
         }
        },
        "xaxis": {
         "anchor": "y",
         "constrain": "domain",
         "domain": [
          0,
          1
         ],
         "scaleanchor": "y"
        },
        "yaxis": {
         "anchor": "x",
         "autorange": "reversed",
         "constrain": "domain",
         "domain": [
          0,
          1
         ]
        }
       }
      },
      "text/html": [
       "<div>                            <div id=\"34aeb726-694b-4c4f-99ed-6d5d225e8b37\" class=\"plotly-graph-div\" style=\"height:525px; width:100%;\"></div>            <script type=\"text/javascript\">                require([\"plotly\"], function(Plotly) {                    window.PLOTLYENV=window.PLOTLYENV || {};                                    if (document.getElementById(\"34aeb726-694b-4c4f-99ed-6d5d225e8b37\")) {                    Plotly.newPlot(                        \"34aeb726-694b-4c4f-99ed-6d5d225e8b37\",                        [{\"coloraxis\":\"coloraxis\",\"name\":\"0\",\"texttemplate\":\"%{z}\",\"x\":[\"state\",\"colony_number\",\"yield_per_colony\",\"productions\",\"stocks\",\"average_price\",\"value_of_prod\",\"year\"],\"y\":[\"state\",\"colony_number\",\"yield_per_colony\",\"productions\",\"stocks\",\"average_price\",\"value_of_prod\",\"year\"],\"z\":[[1.0,-0.03549298668540714,-0.0637279173934593,0.09663023238157481,0.09663023238157481,0.07156856449386567,0.024627948639371764,0.0142950083305727],[-0.03549298668540714,1.0,0.1667392588347326,0.8288589211330716,0.8288589211330716,-0.17725999978169696,0.95815524430754,0.013104227845580957],[-0.0637279173934593,0.1667392588347326,1.0,0.27818206518349536,0.27818206518349536,-0.02990309438976524,0.29190918323945436,-0.14232952893021333],[0.09663023238157481,0.8288589211330716,0.27818206518349536,1.0,1.0,-0.12065274993046103,0.853733929075904,-0.04134256957244232],[0.09663023238157481,0.8288589211330716,0.27818206518349536,1.0,1.0,-0.12065274993046103,0.853733929075904,-0.04134256957244232],[0.07156856449386567,-0.17725999978169696,-0.02990309438976524,-0.12065274993046103,-0.12065274993046103,1.0,-0.14438072835328422,-0.562964568591012],[0.024627948639371764,0.95815524430754,0.29190918323945436,0.853733929075904,0.853733929075904,-0.14438072835328422,1.0,0.020532455685993326],[0.0142950083305727,0.013104227845580957,-0.14232952893021333,-0.04134256957244232,-0.04134256957244232,-0.562964568591012,0.020532455685993326,1.0]],\"type\":\"heatmap\",\"xaxis\":\"x\",\"yaxis\":\"y\",\"hovertemplate\":\"x: %{x}<br>y: %{y}<br>color: %{z}<extra></extra>\"}],                        {\"template\":{\"data\":{\"bar\":[{\"error_x\":{\"color\":\"#2a3f5f\"},\"error_y\":{\"color\":\"#2a3f5f\"},\"marker\":{\"line\":{\"color\":\"#E5ECF6\",\"width\":0.5},\"pattern\":{\"fillmode\":\"overlay\",\"size\":10,\"solidity\":0.2}},\"type\":\"bar\"}],\"barpolar\":[{\"marker\":{\"line\":{\"color\":\"#E5ECF6\",\"width\":0.5},\"pattern\":{\"fillmode\":\"overlay\",\"size\":10,\"solidity\":0.2}},\"type\":\"barpolar\"}],\"carpet\":[{\"aaxis\":{\"endlinecolor\":\"#2a3f5f\",\"gridcolor\":\"white\",\"linecolor\":\"white\",\"minorgridcolor\":\"white\",\"startlinecolor\":\"#2a3f5f\"},\"baxis\":{\"endlinecolor\":\"#2a3f5f\",\"gridcolor\":\"white\",\"linecolor\":\"white\",\"minorgridcolor\":\"white\",\"startlinecolor\":\"#2a3f5f\"},\"type\":\"carpet\"}],\"choropleth\":[{\"colorbar\":{\"outlinewidth\":0,\"ticks\":\"\"},\"type\":\"choropleth\"}],\"contour\":[{\"colorbar\":{\"outlinewidth\":0,\"ticks\":\"\"},\"colorscale\":[[0.0,\"#0d0887\"],[0.1111111111111111,\"#46039f\"],[0.2222222222222222,\"#7201a8\"],[0.3333333333333333,\"#9c179e\"],[0.4444444444444444,\"#bd3786\"],[0.5555555555555556,\"#d8576b\"],[0.6666666666666666,\"#ed7953\"],[0.7777777777777778,\"#fb9f3a\"],[0.8888888888888888,\"#fdca26\"],[1.0,\"#f0f921\"]],\"type\":\"contour\"}],\"contourcarpet\":[{\"colorbar\":{\"outlinewidth\":0,\"ticks\":\"\"},\"type\":\"contourcarpet\"}],\"heatmap\":[{\"colorbar\":{\"outlinewidth\":0,\"ticks\":\"\"},\"colorscale\":[[0.0,\"#0d0887\"],[0.1111111111111111,\"#46039f\"],[0.2222222222222222,\"#7201a8\"],[0.3333333333333333,\"#9c179e\"],[0.4444444444444444,\"#bd3786\"],[0.5555555555555556,\"#d8576b\"],[0.6666666666666666,\"#ed7953\"],[0.7777777777777778,\"#fb9f3a\"],[0.8888888888888888,\"#fdca26\"],[1.0,\"#f0f921\"]],\"type\":\"heatmap\"}],\"heatmapgl\":[{\"colorbar\":{\"outlinewidth\":0,\"ticks\":\"\"},\"colorscale\":[[0.0,\"#0d0887\"],[0.1111111111111111,\"#46039f\"],[0.2222222222222222,\"#7201a8\"],[0.3333333333333333,\"#9c179e\"],[0.4444444444444444,\"#bd3786\"],[0.5555555555555556,\"#d8576b\"],[0.6666666666666666,\"#ed7953\"],[0.7777777777777778,\"#fb9f3a\"],[0.8888888888888888,\"#fdca26\"],[1.0,\"#f0f921\"]],\"type\":\"heatmapgl\"}],\"histogram\":[{\"marker\":{\"pattern\":{\"fillmode\":\"overlay\",\"size\":10,\"solidity\":0.2}},\"type\":\"histogram\"}],\"histogram2d\":[{\"colorbar\":{\"outlinewidth\":0,\"ticks\":\"\"},\"colorscale\":[[0.0,\"#0d0887\"],[0.1111111111111111,\"#46039f\"],[0.2222222222222222,\"#7201a8\"],[0.3333333333333333,\"#9c179e\"],[0.4444444444444444,\"#bd3786\"],[0.5555555555555556,\"#d8576b\"],[0.6666666666666666,\"#ed7953\"],[0.7777777777777778,\"#fb9f3a\"],[0.8888888888888888,\"#fdca26\"],[1.0,\"#f0f921\"]],\"type\":\"histogram2d\"}],\"histogram2dcontour\":[{\"colorbar\":{\"outlinewidth\":0,\"ticks\":\"\"},\"colorscale\":[[0.0,\"#0d0887\"],[0.1111111111111111,\"#46039f\"],[0.2222222222222222,\"#7201a8\"],[0.3333333333333333,\"#9c179e\"],[0.4444444444444444,\"#bd3786\"],[0.5555555555555556,\"#d8576b\"],[0.6666666666666666,\"#ed7953\"],[0.7777777777777778,\"#fb9f3a\"],[0.8888888888888888,\"#fdca26\"],[1.0,\"#f0f921\"]],\"type\":\"histogram2dcontour\"}],\"mesh3d\":[{\"colorbar\":{\"outlinewidth\":0,\"ticks\":\"\"},\"type\":\"mesh3d\"}],\"parcoords\":[{\"line\":{\"colorbar\":{\"outlinewidth\":0,\"ticks\":\"\"}},\"type\":\"parcoords\"}],\"pie\":[{\"automargin\":true,\"type\":\"pie\"}],\"scatter\":[{\"marker\":{\"colorbar\":{\"outlinewidth\":0,\"ticks\":\"\"}},\"type\":\"scatter\"}],\"scatter3d\":[{\"line\":{\"colorbar\":{\"outlinewidth\":0,\"ticks\":\"\"}},\"marker\":{\"colorbar\":{\"outlinewidth\":0,\"ticks\":\"\"}},\"type\":\"scatter3d\"}],\"scattercarpet\":[{\"marker\":{\"colorbar\":{\"outlinewidth\":0,\"ticks\":\"\"}},\"type\":\"scattercarpet\"}],\"scattergeo\":[{\"marker\":{\"colorbar\":{\"outlinewidth\":0,\"ticks\":\"\"}},\"type\":\"scattergeo\"}],\"scattergl\":[{\"marker\":{\"colorbar\":{\"outlinewidth\":0,\"ticks\":\"\"}},\"type\":\"scattergl\"}],\"scattermapbox\":[{\"marker\":{\"colorbar\":{\"outlinewidth\":0,\"ticks\":\"\"}},\"type\":\"scattermapbox\"}],\"scatterpolar\":[{\"marker\":{\"colorbar\":{\"outlinewidth\":0,\"ticks\":\"\"}},\"type\":\"scatterpolar\"}],\"scatterpolargl\":[{\"marker\":{\"colorbar\":{\"outlinewidth\":0,\"ticks\":\"\"}},\"type\":\"scatterpolargl\"}],\"scatterternary\":[{\"marker\":{\"colorbar\":{\"outlinewidth\":0,\"ticks\":\"\"}},\"type\":\"scatterternary\"}],\"surface\":[{\"colorbar\":{\"outlinewidth\":0,\"ticks\":\"\"},\"colorscale\":[[0.0,\"#0d0887\"],[0.1111111111111111,\"#46039f\"],[0.2222222222222222,\"#7201a8\"],[0.3333333333333333,\"#9c179e\"],[0.4444444444444444,\"#bd3786\"],[0.5555555555555556,\"#d8576b\"],[0.6666666666666666,\"#ed7953\"],[0.7777777777777778,\"#fb9f3a\"],[0.8888888888888888,\"#fdca26\"],[1.0,\"#f0f921\"]],\"type\":\"surface\"}],\"table\":[{\"cells\":{\"fill\":{\"color\":\"#EBF0F8\"},\"line\":{\"color\":\"white\"}},\"header\":{\"fill\":{\"color\":\"#C8D4E3\"},\"line\":{\"color\":\"white\"}},\"type\":\"table\"}]},\"layout\":{\"annotationdefaults\":{\"arrowcolor\":\"#2a3f5f\",\"arrowhead\":0,\"arrowwidth\":1},\"autotypenumbers\":\"strict\",\"coloraxis\":{\"colorbar\":{\"outlinewidth\":0,\"ticks\":\"\"}},\"colorscale\":{\"diverging\":[[0,\"#8e0152\"],[0.1,\"#c51b7d\"],[0.2,\"#de77ae\"],[0.3,\"#f1b6da\"],[0.4,\"#fde0ef\"],[0.5,\"#f7f7f7\"],[0.6,\"#e6f5d0\"],[0.7,\"#b8e186\"],[0.8,\"#7fbc41\"],[0.9,\"#4d9221\"],[1,\"#276419\"]],\"sequential\":[[0.0,\"#0d0887\"],[0.1111111111111111,\"#46039f\"],[0.2222222222222222,\"#7201a8\"],[0.3333333333333333,\"#9c179e\"],[0.4444444444444444,\"#bd3786\"],[0.5555555555555556,\"#d8576b\"],[0.6666666666666666,\"#ed7953\"],[0.7777777777777778,\"#fb9f3a\"],[0.8888888888888888,\"#fdca26\"],[1.0,\"#f0f921\"]],\"sequentialminus\":[[0.0,\"#0d0887\"],[0.1111111111111111,\"#46039f\"],[0.2222222222222222,\"#7201a8\"],[0.3333333333333333,\"#9c179e\"],[0.4444444444444444,\"#bd3786\"],[0.5555555555555556,\"#d8576b\"],[0.6666666666666666,\"#ed7953\"],[0.7777777777777778,\"#fb9f3a\"],[0.8888888888888888,\"#fdca26\"],[1.0,\"#f0f921\"]]},\"colorway\":[\"#636efa\",\"#EF553B\",\"#00cc96\",\"#ab63fa\",\"#FFA15A\",\"#19d3f3\",\"#FF6692\",\"#B6E880\",\"#FF97FF\",\"#FECB52\"],\"font\":{\"color\":\"#2a3f5f\"},\"geo\":{\"bgcolor\":\"white\",\"lakecolor\":\"white\",\"landcolor\":\"#E5ECF6\",\"showlakes\":true,\"showland\":true,\"subunitcolor\":\"white\"},\"hoverlabel\":{\"align\":\"left\"},\"hovermode\":\"closest\",\"mapbox\":{\"style\":\"light\"},\"paper_bgcolor\":\"white\",\"plot_bgcolor\":\"#E5ECF6\",\"polar\":{\"angularaxis\":{\"gridcolor\":\"white\",\"linecolor\":\"white\",\"ticks\":\"\"},\"bgcolor\":\"#E5ECF6\",\"radialaxis\":{\"gridcolor\":\"white\",\"linecolor\":\"white\",\"ticks\":\"\"}},\"scene\":{\"xaxis\":{\"backgroundcolor\":\"#E5ECF6\",\"gridcolor\":\"white\",\"gridwidth\":2,\"linecolor\":\"white\",\"showbackground\":true,\"ticks\":\"\",\"zerolinecolor\":\"white\"},\"yaxis\":{\"backgroundcolor\":\"#E5ECF6\",\"gridcolor\":\"white\",\"gridwidth\":2,\"linecolor\":\"white\",\"showbackground\":true,\"ticks\":\"\",\"zerolinecolor\":\"white\"},\"zaxis\":{\"backgroundcolor\":\"#E5ECF6\",\"gridcolor\":\"white\",\"gridwidth\":2,\"linecolor\":\"white\",\"showbackground\":true,\"ticks\":\"\",\"zerolinecolor\":\"white\"}},\"shapedefaults\":{\"line\":{\"color\":\"#2a3f5f\"}},\"ternary\":{\"aaxis\":{\"gridcolor\":\"white\",\"linecolor\":\"white\",\"ticks\":\"\"},\"baxis\":{\"gridcolor\":\"white\",\"linecolor\":\"white\",\"ticks\":\"\"},\"bgcolor\":\"#E5ECF6\",\"caxis\":{\"gridcolor\":\"white\",\"linecolor\":\"white\",\"ticks\":\"\"}},\"title\":{\"x\":0.05},\"xaxis\":{\"automargin\":true,\"gridcolor\":\"white\",\"linecolor\":\"white\",\"ticks\":\"\",\"title\":{\"standoff\":15},\"zerolinecolor\":\"white\",\"zerolinewidth\":2},\"yaxis\":{\"automargin\":true,\"gridcolor\":\"white\",\"linecolor\":\"white\",\"ticks\":\"\",\"title\":{\"standoff\":15},\"zerolinecolor\":\"white\",\"zerolinewidth\":2}}},\"xaxis\":{\"anchor\":\"y\",\"domain\":[0.0,1.0],\"scaleanchor\":\"y\",\"constrain\":\"domain\"},\"yaxis\":{\"anchor\":\"x\",\"domain\":[0.0,1.0],\"autorange\":\"reversed\",\"constrain\":\"domain\"},\"coloraxis\":{\"colorscale\":[[0.0,\"#0d0887\"],[0.1111111111111111,\"#46039f\"],[0.2222222222222222,\"#7201a8\"],[0.3333333333333333,\"#9c179e\"],[0.4444444444444444,\"#bd3786\"],[0.5555555555555556,\"#d8576b\"],[0.6666666666666666,\"#ed7953\"],[0.7777777777777778,\"#fb9f3a\"],[0.8888888888888888,\"#fdca26\"],[1.0,\"#f0f921\"]]},\"margin\":{\"t\":60}},                        {\"responsive\": true}                    ).then(function(){\n",
       "                            \n",
       "var gd = document.getElementById('34aeb726-694b-4c4f-99ed-6d5d225e8b37');\n",
       "var x = new MutationObserver(function (mutations, observer) {{\n",
       "        var display = window.getComputedStyle(gd).display;\n",
       "        if (!display || display === 'none') {{\n",
       "            console.log([gd, 'removed!']);\n",
       "            Plotly.purge(gd);\n",
       "            observer.disconnect();\n",
       "        }}\n",
       "}});\n",
       "\n",
       "// Listen for the removal of the full notebook cells\n",
       "var notebookContainer = gd.closest('#notebook-container');\n",
       "if (notebookContainer) {{\n",
       "    x.observe(notebookContainer, {childList: true});\n",
       "}}\n",
       "\n",
       "// Listen for the clearing of the current output cell\n",
       "var outputEl = gd.closest('.output');\n",
       "if (outputEl) {{\n",
       "    x.observe(outputEl, {childList: true});\n",
       "}}\n",
       "\n",
       "                        })                };                });            </script>        </div>"
      ]
     },
     "metadata": {},
     "output_type": "display_data"
    }
   ],
   "source": [
    "correlation_matrix = honeyDF.corr()\n",
    "fig = px.imshow(correlation_matrix, text_auto=True)\n",
    "fig.show()\n"
   ]
  },
  {
   "cell_type": "code",
   "execution_count": 78,
   "id": "02e51543",
   "metadata": {},
   "outputs": [
    {
     "data": {
      "application/vnd.plotly.v1+json": {
       "config": {
        "plotlyServerURL": "https://plot.ly"
       },
       "data": [
        {
         "alignmentgroup": "True",
         "bingroup": "x",
         "histfunc": "sum",
         "hovertemplate": "colony_number=%{x}<br>sum of value_of_prod=%{y}<extra></extra>",
         "legendgroup": "",
         "marker": {
          "color": "#636efa",
          "pattern": {
           "shape": ""
          }
         },
         "name": "",
         "offsetgroup": "",
         "orientation": "v",
         "showlegend": false,
         "type": "histogram",
         "x": [
          9000,
          24000,
          25000,
          410000,
          34000,
          200000,
          55000,
          10000,
          97000,
          9000,
          10000,
          27000,
          9000,
          5000,
          36000,
          5000,
          71000,
          128000,
          16000,
          11000,
          157000,
          41000,
          13000,
          7000,
          45000,
          13000,
          510000,
          18000,
          59000,
          30000,
          265000,
          8000,
          100000,
          26000,
          4000,
          5000,
          71000,
          5000,
          64000,
          34000,
          9000,
          23000,
          22000,
          370000,
          31000,
          180000,
          65000,
          9000,
          87000,
          7000,
          8000,
          25000,
          7000,
          4000,
          36000,
          4000,
          74000,
          120000,
          18000,
          8000,
          145000,
          41000,
          11000,
          7000,
          49000,
          14000,
          460000,
          15000,
          60000,
          24000,
          250000,
          7000,
          78000,
          23000,
          4000,
          4000,
          71000,
          4000,
          57000,
          35000,
          8000,
          22000,
          25000,
          330000,
          25000,
          193000,
          59000,
          10000,
          92000,
          7000,
          8000,
          37000,
          6000,
          5000,
          41000,
          4000,
          73000,
          125000,
          18000,
          7000,
          145000,
          43000,
          14000,
          5000,
          51000,
          13000,
          480000,
          18000,
          60000,
          16000,
          260000,
          6000,
          92000,
          25000,
          4000,
          4000,
          62000,
          6000,
          60000,
          50000,
          7000,
          29000,
          22000,
          330000,
          26000,
          220000,
          67000,
          13000,
          83000,
          7000,
          6000,
          39000,
          6000,
          3000,
          50000,
          7000,
          85000,
          130000,
          17000,
          10000,
          159000,
          46000,
          11000,
          55000,
          10000,
          480000,
          17000,
          62000,
          13000,
          265000,
          7000,
          106000,
          30000,
          3000,
          5000,
          69000,
          6000,
          59000,
          47000,
          7000,
          26000,
          21000,
          320000,
          27000,
          245000,
          73000,
          15000,
          100000,
          8000,
          5000,
          35000,
          7000,
          5000,
          48000,
          8000,
          91000,
          132000,
          20000,
          12000,
          162000,
          50000,
          12000,
          60000,
          12000,
          490000,
          15000,
          71000,
          17000,
          9000,
          280000,
          7000,
          116000,
          29000,
          3000,
          6000,
          68000,
          6000,
          53000,
          38000,
          7000,
          26000,
          24000,
          275000,
          29000,
          220000,
          69000,
          14000,
          89000,
          8000,
          6000,
          36000,
          8000,
          5000,
          44000,
          10000,
          90000,
          122000,
          15000,
          10000,
          146000,
          57000,
          12000,
          58000,
          12000,
          490000,
          17000,
          71000,
          17000,
          14000,
          290000,
          7000,
          126000,
          27000,
          5000,
          6000,
          73000,
          5000,
          52000,
          38000,
          7000,
          27000,
          24000,
          310000,
          32000,
          215000,
          96000,
          16000,
          97000,
          10000,
          7000,
          37000,
          7000,
          5000,
          50000,
          12000,
          89000,
          124000,
          19000,
          8000,
          159000,
          48000,
          12000,
          64000,
          12000,
          485000,
          15000,
          74000,
          19000,
          16000,
          280000,
          6000,
          133000,
          31000,
          6000,
          5000,
          84000,
          5000,
          54000,
          40000,
          7000,
          22000,
          29000,
          335000,
          33000,
          205000,
          99000,
          19000,
          95000,
          11000,
          8000,
          35000,
          7000,
          5000,
          43000,
          12000,
          87000,
          126000,
          18000,
          8000,
          145000,
          42000,
          13000,
          57000,
          11000,
          455000,
          15000,
          78000,
          16000,
          16000,
          255000,
          7000,
          120000,
          27000,
          7000,
          6000,
          77000,
          6000,
          53000,
          39000,
          6000,
          24000,
          28000,
          335000,
          31000,
          215000,
          98000,
          17000,
          96000,
          11000,
          7000,
          38000,
          5000,
          4000,
          45000,
          12000,
          97000,
          119000,
          20000,
          9000,
          160000,
          40000,
          13000,
          56000,
          10000,
          550000,
          14000,
          93000,
          19000,
          16000,
          255000,
          7000,
          132000,
          26000,
          7000,
          4000,
          77000,
          6000,
          51000,
          39000,
          7000,
          23000,
          20000,
          335000,
          32000,
          205000,
          102000,
          16000,
          92000,
          11000,
          9000,
          38000,
          7000,
          6000,
          54000,
          15000,
          94000,
          118000,
          22000,
          10000,
          173000,
          39000,
          15000,
          59000,
          14000,
          520000,
          15000,
          87000,
          19000,
          16000,
          270000,
          8000,
          126000,
          22000,
          6000,
          5000,
          81000,
          6000,
          46000,
          39000,
          7000,
          25000,
          20000,
          320000,
          30000,
          192000,
          101000,
          15000,
          107000,
          10000,
          9000,
          35000,
          8000,
          7000,
          33000,
          10000,
          95000,
          108000,
          25000,
          9000,
          110000,
          37000,
          14000,
          58000,
          12000,
          495000,
          16000,
          95000,
          19000,
          16000,
          245000,
          7000,
          157000,
          28000,
          6000,
          5000,
          98000,
          6000,
          45000,
          38000,
          8000,
          26000,
          17000,
          290000,
          29000,
          193000,
          96000,
          15000,
          100000,
          10000,
          10000,
          38000,
          7000,
          7000,
          37000,
          11000,
          101000,
          125000,
          25000,
          8000,
          117000,
          39000,
          15000,
          57000,
          13000,
          515000,
          16000,
          86000,
          20000,
          16000,
          250000,
          8000,
          137000,
          31000,
          7000,
          6000,
          96000,
          6000,
          42000,
          38000
         ],
         "xaxis": "x",
         "y": [
          1166000,
          2809000,
          2205000,
          42579000,
          2894000,
          21528000,
          4225000,
          2118000,
          4217000,
          1026000,
          959000,
          2540000,
          945000,
          911000,
          4320000,
          420000,
          6877000,
          13094000,
          2258000,
          1030000,
          18356000,
          3405000,
          865000,
          730000,
          5645000,
          1591000,
          69615000,
          2544000,
          3751000,
          2364000,
          23209000,
          1260000,
          10872000,
          1193000,
          806000,
          614000,
          4124000,
          478000,
          6881000,
          1946000,
          1130000,
          1889000,
          2281000,
          29304000,
          3410000,
          18446000,
          4612000,
          2431000,
          5575000,
          1365000,
          873000,
          3038000,
          662000,
          495000,
          4629000,
          238000,
          8572000,
          10367000,
          3167000,
          736000,
          22678000,
          4233000,
          1669000,
          662000,
          5378000,
          2456000,
          54542000,
          2317000,
          3427000,
          2693000,
          28050000,
          902000,
          8053000,
          1570000,
          397000,
          651000,
          5207000,
          545000,
          6787000,
          3251000,
          1067000,
          1811000,
          3119000,
          22407000,
          2484000,
          22728000,
          5777000,
          3113000,
          4799000,
          1516000,
          1199000,
          4898000,
          752000,
          803000,
          6453000,
          325000,
          8447000,
          16080000,
          3759000,
          1039000,
          14703000,
          5394000,
          910000,
          881000,
          5800000,
          1906000,
          63590000,
          2657000,
          4147000,
          2467000,
          31941000,
          1072000,
          9568000,
          1777000,
          574000,
          618000,
          6050000,
          838000,
          8487000,
          4769000,
          1037000,
          2046000,
          2666000,
          22978000,
          2348000,
          27243000,
          7571000,
          2126000,
          5365000,
          1408000,
          781000,
          4586000,
          690000,
          400000,
          9261000,
          945000,
          10098000,
          15005000,
          3668000,
          1231000,
          31237000,
          5713000,
          2028000,
          5597000,
          1395000,
          67565000,
          2517000,
          5186000,
          1773000,
          30719000,
          1118000,
          13133000,
          2132000,
          595000,
          788000,
          6189000,
          1010000,
          8425000,
          6545000,
          1310000,
          1947000,
          2785000,
          25709000,
          2108000,
          30576000,
          9912000,
          3195000,
          6902000,
          1611000,
          989000,
          3627000,
          1250000,
          931000,
          8790000,
          1876000,
          14275000,
          16315000,
          4502000,
          2047000,
          29795000,
          7650000,
          1127000,
          9339000,
          1801000,
          83859000,
          3276000,
          6248000,
          2276000,
          1929000,
          50669000,
          1658000,
          20268000,
          1730000,
          851000,
          1151000,
          7809000,
          757000,
          6812000,
          4821000,
          1260000,
          2586000,
          3560000,
          16748000,
          3343000,
          23404000,
          6707000,
          2727000,
          5497000,
          1901000,
          1027000,
          3960000,
          1008000,
          929000,
          8494000,
          2552000,
          12737000,
          15265000,
          2988000,
          1846000,
          23509000,
          5581000,
          1361000,
          10572000,
          2435000,
          65268000,
          3060000,
          6556000,
          3262000,
          3846000,
          34261000,
          1669000,
          17464000,
          2177000,
          1100000,
          1261000,
          5782000,
          777000,
          8466000,
          5559000,
          1256000,
          2447000,
          3064000,
          22766000,
          2867000,
          26123000,
          10071000,
          4176000,
          6002000,
          2602000,
          1502000,
          3694000,
          1021000,
          925000,
          8342000,
          1379000,
          12656000,
          12364000,
          2794000,
          1146000,
          21670000,
          4217000,
          2297000,
          11637000,
          2122000,
          69986000,
          4657000,
          4947000,
          2879000,
          3290000,
          34989000,
          1610000,
          19365000,
          1915000,
          1136000,
          1112000,
          5851000,
          627000,
          8939000,
          4842000,
          907000,
          1751000,
          3885000,
          29668000,
          2966000,
          20892000,
          9504000,
          3808000,
          7482000,
          2576000,
          1502000,
          4588000,
          2229000,
          785000,
          6722000,
          1980000,
          9474000,
          15077000,
          2817000,
          1924000,
          23072000,
          5054000,
          3181000,
          9672000,
          2066000,
          64310000,
          3548000,
          6552000,
          2583000,
          1469000,
          30087000,
          1312000,
          17186000,
          1741000,
          1520000,
          1212000,
          8455000,
          943000,
          8370000,
          3328000,
          1004000,
          2745000,
          2632000,
          28981000,
          3050000,
          25284000,
          9196000,
          3362000,
          5833000,
          2178000,
          1153000,
          4469000,
          1132000,
          891000,
          7134000,
          1144000,
          10627000,
          14082000,
          3602000,
          1146000,
          27968000,
          4744000,
          3010000,
          8709000,
          1901000,
          74052000,
          3802000,
          7682000,
          3252000,
          2435000,
          22891000,
          1323000,
          15671000,
          2239000,
          1263000,
          1158000,
          7119000,
          961000,
          6770000,
          4171000,
          994000,
          2158000,
          1815000,
          25728000,
          3444000,
          22694000,
          8987000,
          1664000,
          4769000,
          1767000,
          1871000,
          4912000,
          1300000,
          1146000,
          8359000,
          1722000,
          12032000,
          12740000,
          3291000,
          1441000,
          22168000,
          2920000,
          1966000,
          13688000,
          2417000,
          48334000,
          3477000,
          6960000,
          4190000,
          3783000,
          30326000,
          2152000,
          17539000,
          1257000,
          1290000,
          1402000,
          6180000,
          946000,
          6486000,
          3123000,
          1507000,
          2142000,
          1813000,
          26832000,
          2940000,
          19784000,
          8654000,
          2678000,
          6591000,
          2938000,
          1935000,
          5156000,
          1612000,
          1331000,
          5601000,
          1008000,
          13172000,
          10692000,
          3632000,
          1325000,
          14345000,
          3252000,
          1875000,
          10166000,
          2508000,
          61390000,
          4200000,
          6612000,
          3757000,
          2532000,
          26453000,
          1510000,
          17898000,
          1923000,
          1111000,
          1206000,
          9101000,
          1052000,
          6998000,
          2599000,
          1917000,
          2434000,
          1760000,
          22968000,
          3225000,
          20551000,
          8911000,
          3083000,
          7110000,
          2682000,
          2023000,
          5141000,
          806000,
          1191000,
          5365000,
          1189000,
          15298000,
          16530000,
          4917000,
          1117000,
          14472000,
          3978000,
          1717000,
          12537000,
          3468000,
          62032000,
          3789000,
          5705000,
          2856000,
          3575000,
          27808000,
          2240000,
          17646000,
          2230000,
          1079000,
          1975000,
          7741000,
          1238000,
          5547000,
          4562000
         ],
         "yaxis": "y"
        }
       ],
       "layout": {
        "barmode": "relative",
        "legend": {
         "tracegroupgap": 0
        },
        "margin": {
         "t": 60
        },
        "template": {
         "data": {
          "bar": [
           {
            "error_x": {
             "color": "#2a3f5f"
            },
            "error_y": {
             "color": "#2a3f5f"
            },
            "marker": {
             "line": {
              "color": "#E5ECF6",
              "width": 0.5
             },
             "pattern": {
              "fillmode": "overlay",
              "size": 10,
              "solidity": 0.2
             }
            },
            "type": "bar"
           }
          ],
          "barpolar": [
           {
            "marker": {
             "line": {
              "color": "#E5ECF6",
              "width": 0.5
             },
             "pattern": {
              "fillmode": "overlay",
              "size": 10,
              "solidity": 0.2
             }
            },
            "type": "barpolar"
           }
          ],
          "carpet": [
           {
            "aaxis": {
             "endlinecolor": "#2a3f5f",
             "gridcolor": "white",
             "linecolor": "white",
             "minorgridcolor": "white",
             "startlinecolor": "#2a3f5f"
            },
            "baxis": {
             "endlinecolor": "#2a3f5f",
             "gridcolor": "white",
             "linecolor": "white",
             "minorgridcolor": "white",
             "startlinecolor": "#2a3f5f"
            },
            "type": "carpet"
           }
          ],
          "choropleth": [
           {
            "colorbar": {
             "outlinewidth": 0,
             "ticks": ""
            },
            "type": "choropleth"
           }
          ],
          "contour": [
           {
            "colorbar": {
             "outlinewidth": 0,
             "ticks": ""
            },
            "colorscale": [
             [
              0,
              "#0d0887"
             ],
             [
              0.1111111111111111,
              "#46039f"
             ],
             [
              0.2222222222222222,
              "#7201a8"
             ],
             [
              0.3333333333333333,
              "#9c179e"
             ],
             [
              0.4444444444444444,
              "#bd3786"
             ],
             [
              0.5555555555555556,
              "#d8576b"
             ],
             [
              0.6666666666666666,
              "#ed7953"
             ],
             [
              0.7777777777777778,
              "#fb9f3a"
             ],
             [
              0.8888888888888888,
              "#fdca26"
             ],
             [
              1,
              "#f0f921"
             ]
            ],
            "type": "contour"
           }
          ],
          "contourcarpet": [
           {
            "colorbar": {
             "outlinewidth": 0,
             "ticks": ""
            },
            "type": "contourcarpet"
           }
          ],
          "heatmap": [
           {
            "colorbar": {
             "outlinewidth": 0,
             "ticks": ""
            },
            "colorscale": [
             [
              0,
              "#0d0887"
             ],
             [
              0.1111111111111111,
              "#46039f"
             ],
             [
              0.2222222222222222,
              "#7201a8"
             ],
             [
              0.3333333333333333,
              "#9c179e"
             ],
             [
              0.4444444444444444,
              "#bd3786"
             ],
             [
              0.5555555555555556,
              "#d8576b"
             ],
             [
              0.6666666666666666,
              "#ed7953"
             ],
             [
              0.7777777777777778,
              "#fb9f3a"
             ],
             [
              0.8888888888888888,
              "#fdca26"
             ],
             [
              1,
              "#f0f921"
             ]
            ],
            "type": "heatmap"
           }
          ],
          "heatmapgl": [
           {
            "colorbar": {
             "outlinewidth": 0,
             "ticks": ""
            },
            "colorscale": [
             [
              0,
              "#0d0887"
             ],
             [
              0.1111111111111111,
              "#46039f"
             ],
             [
              0.2222222222222222,
              "#7201a8"
             ],
             [
              0.3333333333333333,
              "#9c179e"
             ],
             [
              0.4444444444444444,
              "#bd3786"
             ],
             [
              0.5555555555555556,
              "#d8576b"
             ],
             [
              0.6666666666666666,
              "#ed7953"
             ],
             [
              0.7777777777777778,
              "#fb9f3a"
             ],
             [
              0.8888888888888888,
              "#fdca26"
             ],
             [
              1,
              "#f0f921"
             ]
            ],
            "type": "heatmapgl"
           }
          ],
          "histogram": [
           {
            "marker": {
             "pattern": {
              "fillmode": "overlay",
              "size": 10,
              "solidity": 0.2
             }
            },
            "type": "histogram"
           }
          ],
          "histogram2d": [
           {
            "colorbar": {
             "outlinewidth": 0,
             "ticks": ""
            },
            "colorscale": [
             [
              0,
              "#0d0887"
             ],
             [
              0.1111111111111111,
              "#46039f"
             ],
             [
              0.2222222222222222,
              "#7201a8"
             ],
             [
              0.3333333333333333,
              "#9c179e"
             ],
             [
              0.4444444444444444,
              "#bd3786"
             ],
             [
              0.5555555555555556,
              "#d8576b"
             ],
             [
              0.6666666666666666,
              "#ed7953"
             ],
             [
              0.7777777777777778,
              "#fb9f3a"
             ],
             [
              0.8888888888888888,
              "#fdca26"
             ],
             [
              1,
              "#f0f921"
             ]
            ],
            "type": "histogram2d"
           }
          ],
          "histogram2dcontour": [
           {
            "colorbar": {
             "outlinewidth": 0,
             "ticks": ""
            },
            "colorscale": [
             [
              0,
              "#0d0887"
             ],
             [
              0.1111111111111111,
              "#46039f"
             ],
             [
              0.2222222222222222,
              "#7201a8"
             ],
             [
              0.3333333333333333,
              "#9c179e"
             ],
             [
              0.4444444444444444,
              "#bd3786"
             ],
             [
              0.5555555555555556,
              "#d8576b"
             ],
             [
              0.6666666666666666,
              "#ed7953"
             ],
             [
              0.7777777777777778,
              "#fb9f3a"
             ],
             [
              0.8888888888888888,
              "#fdca26"
             ],
             [
              1,
              "#f0f921"
             ]
            ],
            "type": "histogram2dcontour"
           }
          ],
          "mesh3d": [
           {
            "colorbar": {
             "outlinewidth": 0,
             "ticks": ""
            },
            "type": "mesh3d"
           }
          ],
          "parcoords": [
           {
            "line": {
             "colorbar": {
              "outlinewidth": 0,
              "ticks": ""
             }
            },
            "type": "parcoords"
           }
          ],
          "pie": [
           {
            "automargin": true,
            "type": "pie"
           }
          ],
          "scatter": [
           {
            "marker": {
             "colorbar": {
              "outlinewidth": 0,
              "ticks": ""
             }
            },
            "type": "scatter"
           }
          ],
          "scatter3d": [
           {
            "line": {
             "colorbar": {
              "outlinewidth": 0,
              "ticks": ""
             }
            },
            "marker": {
             "colorbar": {
              "outlinewidth": 0,
              "ticks": ""
             }
            },
            "type": "scatter3d"
           }
          ],
          "scattercarpet": [
           {
            "marker": {
             "colorbar": {
              "outlinewidth": 0,
              "ticks": ""
             }
            },
            "type": "scattercarpet"
           }
          ],
          "scattergeo": [
           {
            "marker": {
             "colorbar": {
              "outlinewidth": 0,
              "ticks": ""
             }
            },
            "type": "scattergeo"
           }
          ],
          "scattergl": [
           {
            "marker": {
             "colorbar": {
              "outlinewidth": 0,
              "ticks": ""
             }
            },
            "type": "scattergl"
           }
          ],
          "scattermapbox": [
           {
            "marker": {
             "colorbar": {
              "outlinewidth": 0,
              "ticks": ""
             }
            },
            "type": "scattermapbox"
           }
          ],
          "scatterpolar": [
           {
            "marker": {
             "colorbar": {
              "outlinewidth": 0,
              "ticks": ""
             }
            },
            "type": "scatterpolar"
           }
          ],
          "scatterpolargl": [
           {
            "marker": {
             "colorbar": {
              "outlinewidth": 0,
              "ticks": ""
             }
            },
            "type": "scatterpolargl"
           }
          ],
          "scatterternary": [
           {
            "marker": {
             "colorbar": {
              "outlinewidth": 0,
              "ticks": ""
             }
            },
            "type": "scatterternary"
           }
          ],
          "surface": [
           {
            "colorbar": {
             "outlinewidth": 0,
             "ticks": ""
            },
            "colorscale": [
             [
              0,
              "#0d0887"
             ],
             [
              0.1111111111111111,
              "#46039f"
             ],
             [
              0.2222222222222222,
              "#7201a8"
             ],
             [
              0.3333333333333333,
              "#9c179e"
             ],
             [
              0.4444444444444444,
              "#bd3786"
             ],
             [
              0.5555555555555556,
              "#d8576b"
             ],
             [
              0.6666666666666666,
              "#ed7953"
             ],
             [
              0.7777777777777778,
              "#fb9f3a"
             ],
             [
              0.8888888888888888,
              "#fdca26"
             ],
             [
              1,
              "#f0f921"
             ]
            ],
            "type": "surface"
           }
          ],
          "table": [
           {
            "cells": {
             "fill": {
              "color": "#EBF0F8"
             },
             "line": {
              "color": "white"
             }
            },
            "header": {
             "fill": {
              "color": "#C8D4E3"
             },
             "line": {
              "color": "white"
             }
            },
            "type": "table"
           }
          ]
         },
         "layout": {
          "annotationdefaults": {
           "arrowcolor": "#2a3f5f",
           "arrowhead": 0,
           "arrowwidth": 1
          },
          "autotypenumbers": "strict",
          "coloraxis": {
           "colorbar": {
            "outlinewidth": 0,
            "ticks": ""
           }
          },
          "colorscale": {
           "diverging": [
            [
             0,
             "#8e0152"
            ],
            [
             0.1,
             "#c51b7d"
            ],
            [
             0.2,
             "#de77ae"
            ],
            [
             0.3,
             "#f1b6da"
            ],
            [
             0.4,
             "#fde0ef"
            ],
            [
             0.5,
             "#f7f7f7"
            ],
            [
             0.6,
             "#e6f5d0"
            ],
            [
             0.7,
             "#b8e186"
            ],
            [
             0.8,
             "#7fbc41"
            ],
            [
             0.9,
             "#4d9221"
            ],
            [
             1,
             "#276419"
            ]
           ],
           "sequential": [
            [
             0,
             "#0d0887"
            ],
            [
             0.1111111111111111,
             "#46039f"
            ],
            [
             0.2222222222222222,
             "#7201a8"
            ],
            [
             0.3333333333333333,
             "#9c179e"
            ],
            [
             0.4444444444444444,
             "#bd3786"
            ],
            [
             0.5555555555555556,
             "#d8576b"
            ],
            [
             0.6666666666666666,
             "#ed7953"
            ],
            [
             0.7777777777777778,
             "#fb9f3a"
            ],
            [
             0.8888888888888888,
             "#fdca26"
            ],
            [
             1,
             "#f0f921"
            ]
           ],
           "sequentialminus": [
            [
             0,
             "#0d0887"
            ],
            [
             0.1111111111111111,
             "#46039f"
            ],
            [
             0.2222222222222222,
             "#7201a8"
            ],
            [
             0.3333333333333333,
             "#9c179e"
            ],
            [
             0.4444444444444444,
             "#bd3786"
            ],
            [
             0.5555555555555556,
             "#d8576b"
            ],
            [
             0.6666666666666666,
             "#ed7953"
            ],
            [
             0.7777777777777778,
             "#fb9f3a"
            ],
            [
             0.8888888888888888,
             "#fdca26"
            ],
            [
             1,
             "#f0f921"
            ]
           ]
          },
          "colorway": [
           "#636efa",
           "#EF553B",
           "#00cc96",
           "#ab63fa",
           "#FFA15A",
           "#19d3f3",
           "#FF6692",
           "#B6E880",
           "#FF97FF",
           "#FECB52"
          ],
          "font": {
           "color": "#2a3f5f"
          },
          "geo": {
           "bgcolor": "white",
           "lakecolor": "white",
           "landcolor": "#E5ECF6",
           "showlakes": true,
           "showland": true,
           "subunitcolor": "white"
          },
          "hoverlabel": {
           "align": "left"
          },
          "hovermode": "closest",
          "mapbox": {
           "style": "light"
          },
          "paper_bgcolor": "white",
          "plot_bgcolor": "#E5ECF6",
          "polar": {
           "angularaxis": {
            "gridcolor": "white",
            "linecolor": "white",
            "ticks": ""
           },
           "bgcolor": "#E5ECF6",
           "radialaxis": {
            "gridcolor": "white",
            "linecolor": "white",
            "ticks": ""
           }
          },
          "scene": {
           "xaxis": {
            "backgroundcolor": "#E5ECF6",
            "gridcolor": "white",
            "gridwidth": 2,
            "linecolor": "white",
            "showbackground": true,
            "ticks": "",
            "zerolinecolor": "white"
           },
           "yaxis": {
            "backgroundcolor": "#E5ECF6",
            "gridcolor": "white",
            "gridwidth": 2,
            "linecolor": "white",
            "showbackground": true,
            "ticks": "",
            "zerolinecolor": "white"
           },
           "zaxis": {
            "backgroundcolor": "#E5ECF6",
            "gridcolor": "white",
            "gridwidth": 2,
            "linecolor": "white",
            "showbackground": true,
            "ticks": "",
            "zerolinecolor": "white"
           }
          },
          "shapedefaults": {
           "line": {
            "color": "#2a3f5f"
           }
          },
          "ternary": {
           "aaxis": {
            "gridcolor": "white",
            "linecolor": "white",
            "ticks": ""
           },
           "baxis": {
            "gridcolor": "white",
            "linecolor": "white",
            "ticks": ""
           },
           "bgcolor": "#E5ECF6",
           "caxis": {
            "gridcolor": "white",
            "linecolor": "white",
            "ticks": ""
           }
          },
          "title": {
           "x": 0.05
          },
          "xaxis": {
           "automargin": true,
           "gridcolor": "white",
           "linecolor": "white",
           "ticks": "",
           "title": {
            "standoff": 15
           },
           "zerolinecolor": "white",
           "zerolinewidth": 2
          },
          "yaxis": {
           "automargin": true,
           "gridcolor": "white",
           "linecolor": "white",
           "ticks": "",
           "title": {
            "standoff": 15
           },
           "zerolinecolor": "white",
           "zerolinewidth": 2
          }
         }
        },
        "xaxis": {
         "anchor": "y",
         "domain": [
          0,
          1
         ],
         "title": {
          "text": "colony_number"
         }
        },
        "yaxis": {
         "anchor": "x",
         "domain": [
          0,
          1
         ],
         "title": {
          "text": "sum of value_of_prod"
         }
        }
       }
      },
      "text/html": [
       "<div>                            <div id=\"829c6ca7-b9b3-4e0f-a60f-ebddb66a5637\" class=\"plotly-graph-div\" style=\"height:525px; width:100%;\"></div>            <script type=\"text/javascript\">                require([\"plotly\"], function(Plotly) {                    window.PLOTLYENV=window.PLOTLYENV || {};                                    if (document.getElementById(\"829c6ca7-b9b3-4e0f-a60f-ebddb66a5637\")) {                    Plotly.newPlot(                        \"829c6ca7-b9b3-4e0f-a60f-ebddb66a5637\",                        [{\"alignmentgroup\":\"True\",\"bingroup\":\"x\",\"histfunc\":\"sum\",\"hovertemplate\":\"colony_number=%{x}<br>sum of value_of_prod=%{y}<extra></extra>\",\"legendgroup\":\"\",\"marker\":{\"color\":\"#636efa\",\"pattern\":{\"shape\":\"\"}},\"name\":\"\",\"offsetgroup\":\"\",\"orientation\":\"v\",\"showlegend\":false,\"x\":[9000,24000,25000,410000,34000,200000,55000,10000,97000,9000,10000,27000,9000,5000,36000,5000,71000,128000,16000,11000,157000,41000,13000,7000,45000,13000,510000,18000,59000,30000,265000,8000,100000,26000,4000,5000,71000,5000,64000,34000,9000,23000,22000,370000,31000,180000,65000,9000,87000,7000,8000,25000,7000,4000,36000,4000,74000,120000,18000,8000,145000,41000,11000,7000,49000,14000,460000,15000,60000,24000,250000,7000,78000,23000,4000,4000,71000,4000,57000,35000,8000,22000,25000,330000,25000,193000,59000,10000,92000,7000,8000,37000,6000,5000,41000,4000,73000,125000,18000,7000,145000,43000,14000,5000,51000,13000,480000,18000,60000,16000,260000,6000,92000,25000,4000,4000,62000,6000,60000,50000,7000,29000,22000,330000,26000,220000,67000,13000,83000,7000,6000,39000,6000,3000,50000,7000,85000,130000,17000,10000,159000,46000,11000,55000,10000,480000,17000,62000,13000,265000,7000,106000,30000,3000,5000,69000,6000,59000,47000,7000,26000,21000,320000,27000,245000,73000,15000,100000,8000,5000,35000,7000,5000,48000,8000,91000,132000,20000,12000,162000,50000,12000,60000,12000,490000,15000,71000,17000,9000,280000,7000,116000,29000,3000,6000,68000,6000,53000,38000,7000,26000,24000,275000,29000,220000,69000,14000,89000,8000,6000,36000,8000,5000,44000,10000,90000,122000,15000,10000,146000,57000,12000,58000,12000,490000,17000,71000,17000,14000,290000,7000,126000,27000,5000,6000,73000,5000,52000,38000,7000,27000,24000,310000,32000,215000,96000,16000,97000,10000,7000,37000,7000,5000,50000,12000,89000,124000,19000,8000,159000,48000,12000,64000,12000,485000,15000,74000,19000,16000,280000,6000,133000,31000,6000,5000,84000,5000,54000,40000,7000,22000,29000,335000,33000,205000,99000,19000,95000,11000,8000,35000,7000,5000,43000,12000,87000,126000,18000,8000,145000,42000,13000,57000,11000,455000,15000,78000,16000,16000,255000,7000,120000,27000,7000,6000,77000,6000,53000,39000,6000,24000,28000,335000,31000,215000,98000,17000,96000,11000,7000,38000,5000,4000,45000,12000,97000,119000,20000,9000,160000,40000,13000,56000,10000,550000,14000,93000,19000,16000,255000,7000,132000,26000,7000,4000,77000,6000,51000,39000,7000,23000,20000,335000,32000,205000,102000,16000,92000,11000,9000,38000,7000,6000,54000,15000,94000,118000,22000,10000,173000,39000,15000,59000,14000,520000,15000,87000,19000,16000,270000,8000,126000,22000,6000,5000,81000,6000,46000,39000,7000,25000,20000,320000,30000,192000,101000,15000,107000,10000,9000,35000,8000,7000,33000,10000,95000,108000,25000,9000,110000,37000,14000,58000,12000,495000,16000,95000,19000,16000,245000,7000,157000,28000,6000,5000,98000,6000,45000,38000,8000,26000,17000,290000,29000,193000,96000,15000,100000,10000,10000,38000,7000,7000,37000,11000,101000,125000,25000,8000,117000,39000,15000,57000,13000,515000,16000,86000,20000,16000,250000,8000,137000,31000,7000,6000,96000,6000,42000,38000],\"xaxis\":\"x\",\"y\":[1166000,2809000,2205000,42579000,2894000,21528000,4225000,2118000,4217000,1026000,959000,2540000,945000,911000,4320000,420000,6877000,13094000,2258000,1030000,18356000,3405000,865000,730000,5645000,1591000,69615000,2544000,3751000,2364000,23209000,1260000,10872000,1193000,806000,614000,4124000,478000,6881000,1946000,1130000,1889000,2281000,29304000,3410000,18446000,4612000,2431000,5575000,1365000,873000,3038000,662000,495000,4629000,238000,8572000,10367000,3167000,736000,22678000,4233000,1669000,662000,5378000,2456000,54542000,2317000,3427000,2693000,28050000,902000,8053000,1570000,397000,651000,5207000,545000,6787000,3251000,1067000,1811000,3119000,22407000,2484000,22728000,5777000,3113000,4799000,1516000,1199000,4898000,752000,803000,6453000,325000,8447000,16080000,3759000,1039000,14703000,5394000,910000,881000,5800000,1906000,63590000,2657000,4147000,2467000,31941000,1072000,9568000,1777000,574000,618000,6050000,838000,8487000,4769000,1037000,2046000,2666000,22978000,2348000,27243000,7571000,2126000,5365000,1408000,781000,4586000,690000,400000,9261000,945000,10098000,15005000,3668000,1231000,31237000,5713000,2028000,5597000,1395000,67565000,2517000,5186000,1773000,30719000,1118000,13133000,2132000,595000,788000,6189000,1010000,8425000,6545000,1310000,1947000,2785000,25709000,2108000,30576000,9912000,3195000,6902000,1611000,989000,3627000,1250000,931000,8790000,1876000,14275000,16315000,4502000,2047000,29795000,7650000,1127000,9339000,1801000,83859000,3276000,6248000,2276000,1929000,50669000,1658000,20268000,1730000,851000,1151000,7809000,757000,6812000,4821000,1260000,2586000,3560000,16748000,3343000,23404000,6707000,2727000,5497000,1901000,1027000,3960000,1008000,929000,8494000,2552000,12737000,15265000,2988000,1846000,23509000,5581000,1361000,10572000,2435000,65268000,3060000,6556000,3262000,3846000,34261000,1669000,17464000,2177000,1100000,1261000,5782000,777000,8466000,5559000,1256000,2447000,3064000,22766000,2867000,26123000,10071000,4176000,6002000,2602000,1502000,3694000,1021000,925000,8342000,1379000,12656000,12364000,2794000,1146000,21670000,4217000,2297000,11637000,2122000,69986000,4657000,4947000,2879000,3290000,34989000,1610000,19365000,1915000,1136000,1112000,5851000,627000,8939000,4842000,907000,1751000,3885000,29668000,2966000,20892000,9504000,3808000,7482000,2576000,1502000,4588000,2229000,785000,6722000,1980000,9474000,15077000,2817000,1924000,23072000,5054000,3181000,9672000,2066000,64310000,3548000,6552000,2583000,1469000,30087000,1312000,17186000,1741000,1520000,1212000,8455000,943000,8370000,3328000,1004000,2745000,2632000,28981000,3050000,25284000,9196000,3362000,5833000,2178000,1153000,4469000,1132000,891000,7134000,1144000,10627000,14082000,3602000,1146000,27968000,4744000,3010000,8709000,1901000,74052000,3802000,7682000,3252000,2435000,22891000,1323000,15671000,2239000,1263000,1158000,7119000,961000,6770000,4171000,994000,2158000,1815000,25728000,3444000,22694000,8987000,1664000,4769000,1767000,1871000,4912000,1300000,1146000,8359000,1722000,12032000,12740000,3291000,1441000,22168000,2920000,1966000,13688000,2417000,48334000,3477000,6960000,4190000,3783000,30326000,2152000,17539000,1257000,1290000,1402000,6180000,946000,6486000,3123000,1507000,2142000,1813000,26832000,2940000,19784000,8654000,2678000,6591000,2938000,1935000,5156000,1612000,1331000,5601000,1008000,13172000,10692000,3632000,1325000,14345000,3252000,1875000,10166000,2508000,61390000,4200000,6612000,3757000,2532000,26453000,1510000,17898000,1923000,1111000,1206000,9101000,1052000,6998000,2599000,1917000,2434000,1760000,22968000,3225000,20551000,8911000,3083000,7110000,2682000,2023000,5141000,806000,1191000,5365000,1189000,15298000,16530000,4917000,1117000,14472000,3978000,1717000,12537000,3468000,62032000,3789000,5705000,2856000,3575000,27808000,2240000,17646000,2230000,1079000,1975000,7741000,1238000,5547000,4562000],\"yaxis\":\"y\",\"type\":\"histogram\"}],                        {\"template\":{\"data\":{\"bar\":[{\"error_x\":{\"color\":\"#2a3f5f\"},\"error_y\":{\"color\":\"#2a3f5f\"},\"marker\":{\"line\":{\"color\":\"#E5ECF6\",\"width\":0.5},\"pattern\":{\"fillmode\":\"overlay\",\"size\":10,\"solidity\":0.2}},\"type\":\"bar\"}],\"barpolar\":[{\"marker\":{\"line\":{\"color\":\"#E5ECF6\",\"width\":0.5},\"pattern\":{\"fillmode\":\"overlay\",\"size\":10,\"solidity\":0.2}},\"type\":\"barpolar\"}],\"carpet\":[{\"aaxis\":{\"endlinecolor\":\"#2a3f5f\",\"gridcolor\":\"white\",\"linecolor\":\"white\",\"minorgridcolor\":\"white\",\"startlinecolor\":\"#2a3f5f\"},\"baxis\":{\"endlinecolor\":\"#2a3f5f\",\"gridcolor\":\"white\",\"linecolor\":\"white\",\"minorgridcolor\":\"white\",\"startlinecolor\":\"#2a3f5f\"},\"type\":\"carpet\"}],\"choropleth\":[{\"colorbar\":{\"outlinewidth\":0,\"ticks\":\"\"},\"type\":\"choropleth\"}],\"contour\":[{\"colorbar\":{\"outlinewidth\":0,\"ticks\":\"\"},\"colorscale\":[[0.0,\"#0d0887\"],[0.1111111111111111,\"#46039f\"],[0.2222222222222222,\"#7201a8\"],[0.3333333333333333,\"#9c179e\"],[0.4444444444444444,\"#bd3786\"],[0.5555555555555556,\"#d8576b\"],[0.6666666666666666,\"#ed7953\"],[0.7777777777777778,\"#fb9f3a\"],[0.8888888888888888,\"#fdca26\"],[1.0,\"#f0f921\"]],\"type\":\"contour\"}],\"contourcarpet\":[{\"colorbar\":{\"outlinewidth\":0,\"ticks\":\"\"},\"type\":\"contourcarpet\"}],\"heatmap\":[{\"colorbar\":{\"outlinewidth\":0,\"ticks\":\"\"},\"colorscale\":[[0.0,\"#0d0887\"],[0.1111111111111111,\"#46039f\"],[0.2222222222222222,\"#7201a8\"],[0.3333333333333333,\"#9c179e\"],[0.4444444444444444,\"#bd3786\"],[0.5555555555555556,\"#d8576b\"],[0.6666666666666666,\"#ed7953\"],[0.7777777777777778,\"#fb9f3a\"],[0.8888888888888888,\"#fdca26\"],[1.0,\"#f0f921\"]],\"type\":\"heatmap\"}],\"heatmapgl\":[{\"colorbar\":{\"outlinewidth\":0,\"ticks\":\"\"},\"colorscale\":[[0.0,\"#0d0887\"],[0.1111111111111111,\"#46039f\"],[0.2222222222222222,\"#7201a8\"],[0.3333333333333333,\"#9c179e\"],[0.4444444444444444,\"#bd3786\"],[0.5555555555555556,\"#d8576b\"],[0.6666666666666666,\"#ed7953\"],[0.7777777777777778,\"#fb9f3a\"],[0.8888888888888888,\"#fdca26\"],[1.0,\"#f0f921\"]],\"type\":\"heatmapgl\"}],\"histogram\":[{\"marker\":{\"pattern\":{\"fillmode\":\"overlay\",\"size\":10,\"solidity\":0.2}},\"type\":\"histogram\"}],\"histogram2d\":[{\"colorbar\":{\"outlinewidth\":0,\"ticks\":\"\"},\"colorscale\":[[0.0,\"#0d0887\"],[0.1111111111111111,\"#46039f\"],[0.2222222222222222,\"#7201a8\"],[0.3333333333333333,\"#9c179e\"],[0.4444444444444444,\"#bd3786\"],[0.5555555555555556,\"#d8576b\"],[0.6666666666666666,\"#ed7953\"],[0.7777777777777778,\"#fb9f3a\"],[0.8888888888888888,\"#fdca26\"],[1.0,\"#f0f921\"]],\"type\":\"histogram2d\"}],\"histogram2dcontour\":[{\"colorbar\":{\"outlinewidth\":0,\"ticks\":\"\"},\"colorscale\":[[0.0,\"#0d0887\"],[0.1111111111111111,\"#46039f\"],[0.2222222222222222,\"#7201a8\"],[0.3333333333333333,\"#9c179e\"],[0.4444444444444444,\"#bd3786\"],[0.5555555555555556,\"#d8576b\"],[0.6666666666666666,\"#ed7953\"],[0.7777777777777778,\"#fb9f3a\"],[0.8888888888888888,\"#fdca26\"],[1.0,\"#f0f921\"]],\"type\":\"histogram2dcontour\"}],\"mesh3d\":[{\"colorbar\":{\"outlinewidth\":0,\"ticks\":\"\"},\"type\":\"mesh3d\"}],\"parcoords\":[{\"line\":{\"colorbar\":{\"outlinewidth\":0,\"ticks\":\"\"}},\"type\":\"parcoords\"}],\"pie\":[{\"automargin\":true,\"type\":\"pie\"}],\"scatter\":[{\"marker\":{\"colorbar\":{\"outlinewidth\":0,\"ticks\":\"\"}},\"type\":\"scatter\"}],\"scatter3d\":[{\"line\":{\"colorbar\":{\"outlinewidth\":0,\"ticks\":\"\"}},\"marker\":{\"colorbar\":{\"outlinewidth\":0,\"ticks\":\"\"}},\"type\":\"scatter3d\"}],\"scattercarpet\":[{\"marker\":{\"colorbar\":{\"outlinewidth\":0,\"ticks\":\"\"}},\"type\":\"scattercarpet\"}],\"scattergeo\":[{\"marker\":{\"colorbar\":{\"outlinewidth\":0,\"ticks\":\"\"}},\"type\":\"scattergeo\"}],\"scattergl\":[{\"marker\":{\"colorbar\":{\"outlinewidth\":0,\"ticks\":\"\"}},\"type\":\"scattergl\"}],\"scattermapbox\":[{\"marker\":{\"colorbar\":{\"outlinewidth\":0,\"ticks\":\"\"}},\"type\":\"scattermapbox\"}],\"scatterpolar\":[{\"marker\":{\"colorbar\":{\"outlinewidth\":0,\"ticks\":\"\"}},\"type\":\"scatterpolar\"}],\"scatterpolargl\":[{\"marker\":{\"colorbar\":{\"outlinewidth\":0,\"ticks\":\"\"}},\"type\":\"scatterpolargl\"}],\"scatterternary\":[{\"marker\":{\"colorbar\":{\"outlinewidth\":0,\"ticks\":\"\"}},\"type\":\"scatterternary\"}],\"surface\":[{\"colorbar\":{\"outlinewidth\":0,\"ticks\":\"\"},\"colorscale\":[[0.0,\"#0d0887\"],[0.1111111111111111,\"#46039f\"],[0.2222222222222222,\"#7201a8\"],[0.3333333333333333,\"#9c179e\"],[0.4444444444444444,\"#bd3786\"],[0.5555555555555556,\"#d8576b\"],[0.6666666666666666,\"#ed7953\"],[0.7777777777777778,\"#fb9f3a\"],[0.8888888888888888,\"#fdca26\"],[1.0,\"#f0f921\"]],\"type\":\"surface\"}],\"table\":[{\"cells\":{\"fill\":{\"color\":\"#EBF0F8\"},\"line\":{\"color\":\"white\"}},\"header\":{\"fill\":{\"color\":\"#C8D4E3\"},\"line\":{\"color\":\"white\"}},\"type\":\"table\"}]},\"layout\":{\"annotationdefaults\":{\"arrowcolor\":\"#2a3f5f\",\"arrowhead\":0,\"arrowwidth\":1},\"autotypenumbers\":\"strict\",\"coloraxis\":{\"colorbar\":{\"outlinewidth\":0,\"ticks\":\"\"}},\"colorscale\":{\"diverging\":[[0,\"#8e0152\"],[0.1,\"#c51b7d\"],[0.2,\"#de77ae\"],[0.3,\"#f1b6da\"],[0.4,\"#fde0ef\"],[0.5,\"#f7f7f7\"],[0.6,\"#e6f5d0\"],[0.7,\"#b8e186\"],[0.8,\"#7fbc41\"],[0.9,\"#4d9221\"],[1,\"#276419\"]],\"sequential\":[[0.0,\"#0d0887\"],[0.1111111111111111,\"#46039f\"],[0.2222222222222222,\"#7201a8\"],[0.3333333333333333,\"#9c179e\"],[0.4444444444444444,\"#bd3786\"],[0.5555555555555556,\"#d8576b\"],[0.6666666666666666,\"#ed7953\"],[0.7777777777777778,\"#fb9f3a\"],[0.8888888888888888,\"#fdca26\"],[1.0,\"#f0f921\"]],\"sequentialminus\":[[0.0,\"#0d0887\"],[0.1111111111111111,\"#46039f\"],[0.2222222222222222,\"#7201a8\"],[0.3333333333333333,\"#9c179e\"],[0.4444444444444444,\"#bd3786\"],[0.5555555555555556,\"#d8576b\"],[0.6666666666666666,\"#ed7953\"],[0.7777777777777778,\"#fb9f3a\"],[0.8888888888888888,\"#fdca26\"],[1.0,\"#f0f921\"]]},\"colorway\":[\"#636efa\",\"#EF553B\",\"#00cc96\",\"#ab63fa\",\"#FFA15A\",\"#19d3f3\",\"#FF6692\",\"#B6E880\",\"#FF97FF\",\"#FECB52\"],\"font\":{\"color\":\"#2a3f5f\"},\"geo\":{\"bgcolor\":\"white\",\"lakecolor\":\"white\",\"landcolor\":\"#E5ECF6\",\"showlakes\":true,\"showland\":true,\"subunitcolor\":\"white\"},\"hoverlabel\":{\"align\":\"left\"},\"hovermode\":\"closest\",\"mapbox\":{\"style\":\"light\"},\"paper_bgcolor\":\"white\",\"plot_bgcolor\":\"#E5ECF6\",\"polar\":{\"angularaxis\":{\"gridcolor\":\"white\",\"linecolor\":\"white\",\"ticks\":\"\"},\"bgcolor\":\"#E5ECF6\",\"radialaxis\":{\"gridcolor\":\"white\",\"linecolor\":\"white\",\"ticks\":\"\"}},\"scene\":{\"xaxis\":{\"backgroundcolor\":\"#E5ECF6\",\"gridcolor\":\"white\",\"gridwidth\":2,\"linecolor\":\"white\",\"showbackground\":true,\"ticks\":\"\",\"zerolinecolor\":\"white\"},\"yaxis\":{\"backgroundcolor\":\"#E5ECF6\",\"gridcolor\":\"white\",\"gridwidth\":2,\"linecolor\":\"white\",\"showbackground\":true,\"ticks\":\"\",\"zerolinecolor\":\"white\"},\"zaxis\":{\"backgroundcolor\":\"#E5ECF6\",\"gridcolor\":\"white\",\"gridwidth\":2,\"linecolor\":\"white\",\"showbackground\":true,\"ticks\":\"\",\"zerolinecolor\":\"white\"}},\"shapedefaults\":{\"line\":{\"color\":\"#2a3f5f\"}},\"ternary\":{\"aaxis\":{\"gridcolor\":\"white\",\"linecolor\":\"white\",\"ticks\":\"\"},\"baxis\":{\"gridcolor\":\"white\",\"linecolor\":\"white\",\"ticks\":\"\"},\"bgcolor\":\"#E5ECF6\",\"caxis\":{\"gridcolor\":\"white\",\"linecolor\":\"white\",\"ticks\":\"\"}},\"title\":{\"x\":0.05},\"xaxis\":{\"automargin\":true,\"gridcolor\":\"white\",\"linecolor\":\"white\",\"ticks\":\"\",\"title\":{\"standoff\":15},\"zerolinecolor\":\"white\",\"zerolinewidth\":2},\"yaxis\":{\"automargin\":true,\"gridcolor\":\"white\",\"linecolor\":\"white\",\"ticks\":\"\",\"title\":{\"standoff\":15},\"zerolinecolor\":\"white\",\"zerolinewidth\":2}}},\"xaxis\":{\"anchor\":\"y\",\"domain\":[0.0,1.0],\"title\":{\"text\":\"colony_number\"}},\"yaxis\":{\"anchor\":\"x\",\"domain\":[0.0,1.0],\"title\":{\"text\":\"sum of value_of_prod\"}},\"legend\":{\"tracegroupgap\":0},\"margin\":{\"t\":60},\"barmode\":\"relative\"},                        {\"responsive\": true}                    ).then(function(){\n",
       "                            \n",
       "var gd = document.getElementById('829c6ca7-b9b3-4e0f-a60f-ebddb66a5637');\n",
       "var x = new MutationObserver(function (mutations, observer) {{\n",
       "        var display = window.getComputedStyle(gd).display;\n",
       "        if (!display || display === 'none') {{\n",
       "            console.log([gd, 'removed!']);\n",
       "            Plotly.purge(gd);\n",
       "            observer.disconnect();\n",
       "        }}\n",
       "}});\n",
       "\n",
       "// Listen for the removal of the full notebook cells\n",
       "var notebookContainer = gd.closest('#notebook-container');\n",
       "if (notebookContainer) {{\n",
       "    x.observe(notebookContainer, {childList: true});\n",
       "}}\n",
       "\n",
       "// Listen for the clearing of the current output cell\n",
       "var outputEl = gd.closest('.output');\n",
       "if (outputEl) {{\n",
       "    x.observe(outputEl, {childList: true});\n",
       "}}\n",
       "\n",
       "                        })                };                });            </script>        </div>"
      ]
     },
     "metadata": {},
     "output_type": "display_data"
    }
   ],
   "source": [
    "# plotting the line chart\n",
    "fig = px.histogram(honeyDF,x = 'colony_number', y= \"value_of_prod\")\n",
    " \n",
    "# showing the plot\n",
    "fig.show()"
   ]
  },
  {
   "cell_type": "code",
   "execution_count": null,
   "id": "618c454e",
   "metadata": {},
   "outputs": [],
   "source": [
    "# plotting the line chart\n",
    "\n",
    "fig = px.line(honeyDF, y=\"sepal_width\",x='year',\n",
    "              color='state')\n",
    " \n",
    "# showing the plot\n",
    "fig.show()"
   ]
  },
  {
   "cell_type": "code",
   "execution_count": 104,
   "id": "9047417c",
   "metadata": {},
   "outputs": [
    {
     "data": {
      "text/html": [
       "<div>\n",
       "<style scoped>\n",
       "    .dataframe tbody tr th:only-of-type {\n",
       "        vertical-align: middle;\n",
       "    }\n",
       "\n",
       "    .dataframe tbody tr th {\n",
       "        vertical-align: top;\n",
       "    }\n",
       "\n",
       "    .dataframe thead th {\n",
       "        text-align: right;\n",
       "    }\n",
       "</style>\n",
       "<table border=\"1\" class=\"dataframe\">\n",
       "  <thead>\n",
       "    <tr style=\"text-align: right;\">\n",
       "      <th></th>\n",
       "      <th>state</th>\n",
       "      <th>colony_number</th>\n",
       "      <th>yield_per_colony</th>\n",
       "      <th>productions</th>\n",
       "      <th>stocks</th>\n",
       "      <th>average_price</th>\n",
       "      <th>value_of_prod</th>\n",
       "      <th>year</th>\n",
       "    </tr>\n",
       "  </thead>\n",
       "  <tbody>\n",
       "    <tr>\n",
       "      <th>0</th>\n",
       "      <td>0</td>\n",
       "      <td>9000</td>\n",
       "      <td>54</td>\n",
       "      <td>73000</td>\n",
       "      <td>73000</td>\n",
       "      <td>240.00</td>\n",
       "      <td>1166000</td>\n",
       "      <td>2010</td>\n",
       "    </tr>\n",
       "    <tr>\n",
       "      <th>1</th>\n",
       "      <td>1</td>\n",
       "      <td>24000</td>\n",
       "      <td>77</td>\n",
       "      <td>665000</td>\n",
       "      <td>665000</td>\n",
       "      <td>152.00</td>\n",
       "      <td>2809000</td>\n",
       "      <td>2010</td>\n",
       "    </tr>\n",
       "    <tr>\n",
       "      <th>2</th>\n",
       "      <td>2</td>\n",
       "      <td>25000</td>\n",
       "      <td>60</td>\n",
       "      <td>360000</td>\n",
       "      <td>360000</td>\n",
       "      <td>147.00</td>\n",
       "      <td>2205000</td>\n",
       "      <td>2010</td>\n",
       "    </tr>\n",
       "    <tr>\n",
       "      <th>3</th>\n",
       "      <td>3</td>\n",
       "      <td>410000</td>\n",
       "      <td>67</td>\n",
       "      <td>6318000</td>\n",
       "      <td>6318000</td>\n",
       "      <td>155.00</td>\n",
       "      <td>42579000</td>\n",
       "      <td>2010</td>\n",
       "    </tr>\n",
       "    <tr>\n",
       "      <th>4</th>\n",
       "      <td>4</td>\n",
       "      <td>34000</td>\n",
       "      <td>56</td>\n",
       "      <td>533000</td>\n",
       "      <td>533000</td>\n",
       "      <td>152.00</td>\n",
       "      <td>2894000</td>\n",
       "      <td>2010</td>\n",
       "    </tr>\n",
       "    <tr>\n",
       "      <th>...</th>\n",
       "      <td>...</td>\n",
       "      <td>...</td>\n",
       "      <td>...</td>\n",
       "      <td>...</td>\n",
       "      <td>...</td>\n",
       "      <td>...</td>\n",
       "      <td>...</td>\n",
       "      <td>...</td>\n",
       "    </tr>\n",
       "    <tr>\n",
       "      <th>474</th>\n",
       "      <td>35</td>\n",
       "      <td>6000</td>\n",
       "      <td>40</td>\n",
       "      <td>79000</td>\n",
       "      <td>79000</td>\n",
       "      <td>8.23</td>\n",
       "      <td>1975000</td>\n",
       "      <td>2021</td>\n",
       "    </tr>\n",
       "    <tr>\n",
       "      <th>475</th>\n",
       "      <td>36</td>\n",
       "      <td>96000</td>\n",
       "      <td>32</td>\n",
       "      <td>1206000</td>\n",
       "      <td>1206000</td>\n",
       "      <td>2.52</td>\n",
       "      <td>7741000</td>\n",
       "      <td>2021</td>\n",
       "    </tr>\n",
       "    <tr>\n",
       "      <th>476</th>\n",
       "      <td>37</td>\n",
       "      <td>6000</td>\n",
       "      <td>43</td>\n",
       "      <td>136000</td>\n",
       "      <td>136000</td>\n",
       "      <td>4.80</td>\n",
       "      <td>1238000</td>\n",
       "      <td>2021</td>\n",
       "    </tr>\n",
       "    <tr>\n",
       "      <th>477</th>\n",
       "      <td>38</td>\n",
       "      <td>42000</td>\n",
       "      <td>47</td>\n",
       "      <td>750000</td>\n",
       "      <td>750000</td>\n",
       "      <td>2.81</td>\n",
       "      <td>5547000</td>\n",
       "      <td>2021</td>\n",
       "    </tr>\n",
       "    <tr>\n",
       "      <th>478</th>\n",
       "      <td>39</td>\n",
       "      <td>38000</td>\n",
       "      <td>58</td>\n",
       "      <td>242000</td>\n",
       "      <td>242000</td>\n",
       "      <td>2.07</td>\n",
       "      <td>4562000</td>\n",
       "      <td>2021</td>\n",
       "    </tr>\n",
       "  </tbody>\n",
       "</table>\n",
       "<p>479 rows × 8 columns</p>\n",
       "</div>"
      ],
      "text/plain": [
       "     state  colony_number  yield_per_colony  productions   stocks  \\\n",
       "0        0           9000                54        73000    73000   \n",
       "1        1          24000                77       665000   665000   \n",
       "2        2          25000                60       360000   360000   \n",
       "3        3         410000                67      6318000  6318000   \n",
       "4        4          34000                56       533000   533000   \n",
       "..     ...            ...               ...          ...      ...   \n",
       "474     35           6000                40        79000    79000   \n",
       "475     36          96000                32      1206000  1206000   \n",
       "476     37           6000                43       136000   136000   \n",
       "477     38          42000                47       750000   750000   \n",
       "478     39          38000                58       242000   242000   \n",
       "\n",
       "     average_price  value_of_prod  year  \n",
       "0           240.00        1166000  2010  \n",
       "1           152.00        2809000  2010  \n",
       "2           147.00        2205000  2010  \n",
       "3           155.00       42579000  2010  \n",
       "4           152.00        2894000  2010  \n",
       "..             ...            ...   ...  \n",
       "474           8.23        1975000  2021  \n",
       "475           2.52        7741000  2021  \n",
       "476           4.80        1238000  2021  \n",
       "477           2.81        5547000  2021  \n",
       "478           2.07        4562000  2021  \n",
       "\n",
       "[479 rows x 8 columns]"
      ]
     },
     "execution_count": 104,
     "metadata": {},
     "output_type": "execute_result"
    }
   ],
   "source": [
    "\n",
    "grouped_multiple = honeyDF.groupby([\"year\",\"state\"])\n",
    "\n",
    "grouped_multiple.head()"
   ]
  },
  {
   "cell_type": "code",
   "execution_count": null,
   "id": "bf7c5c05",
   "metadata": {},
   "outputs": [],
   "source": []
  }
 ],
 "metadata": {
  "kernelspec": {
   "display_name": "Python 3.10.6 64-bit",
   "language": "python",
   "name": "python3"
  },
  "language_info": {
   "codemirror_mode": {
    "name": "ipython",
    "version": 3
   },
   "file_extension": ".py",
   "mimetype": "text/x-python",
   "name": "python",
   "nbconvert_exporter": "python",
   "pygments_lexer": "ipython3",
   "version": "3.10.6"
  },
  "vscode": {
   "interpreter": {
    "hash": "2be59181caf08482416974c88260d83ebd33dc2296d1b0b8830021d0b11b63b8"
   }
  }
 },
 "nbformat": 4,
 "nbformat_minor": 5
}
